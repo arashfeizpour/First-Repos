{
 "cells": [
  {
   "cell_type": "markdown",
   "metadata": {},
   "source": [
    "As always, we start by importing packages. "
   ]
  },
  {
   "cell_type": "code",
   "execution_count": 1,
   "metadata": {
    "collapsed": false,
    "scrolled": true
   },
   "outputs": [
    {
     "ename": "ImportError",
     "evalue": "No module named 'anytree'",
     "output_type": "error",
     "traceback": [
      "\u001b[1;31m---------------------------------------------------------------------------\u001b[0m",
      "\u001b[1;31mImportError\u001b[0m                               Traceback (most recent call last)",
      "\u001b[1;32m<ipython-input-1-62c748a36b00>\u001b[0m in \u001b[0;36m<module>\u001b[1;34m()\u001b[0m\n\u001b[0;32m      1\u001b[0m \u001b[1;31m#imports\u001b[0m\u001b[1;33m\u001b[0m\u001b[1;33m\u001b[0m\u001b[0m\n\u001b[0;32m      2\u001b[0m \u001b[1;32mimport\u001b[0m \u001b[0mnumpy\u001b[0m \u001b[1;32mas\u001b[0m \u001b[0mnp\u001b[0m\u001b[1;33m\u001b[0m\u001b[0m\n\u001b[1;32m----> 3\u001b[1;33m \u001b[1;32mimport\u001b[0m \u001b[0manytree\u001b[0m \u001b[1;32mas\u001b[0m \u001b[0mat\u001b[0m\u001b[1;33m\u001b[0m\u001b[0m\n\u001b[0m\u001b[0;32m      4\u001b[0m \u001b[1;32mimport\u001b[0m \u001b[0msys\u001b[0m\u001b[1;33m\u001b[0m\u001b[0m\n\u001b[0;32m      5\u001b[0m \u001b[1;32mimport\u001b[0m \u001b[0mmatplotlib\u001b[0m\u001b[1;33m.\u001b[0m\u001b[0mpyplot\u001b[0m \u001b[1;32mas\u001b[0m \u001b[0mplt\u001b[0m\u001b[1;33m\u001b[0m\u001b[0m\n",
      "\u001b[1;31mImportError\u001b[0m: No module named 'anytree'"
     ]
    }
   ],
   "source": [
    "#imports\n",
    "import numpy as np\n",
    "import anytree as at\n",
    "import sys\n",
    "import matplotlib.pyplot as plt\n",
    "from datetime import datetime"
   ]
  },
  {
   "cell_type": "markdown",
   "metadata": {},
   "source": [
    "You should know the numpy package have you done anything with python. \n",
    "\n",
    "\"anytree\" is a package written for making and working with data with the structure of a tree. You can aqcuire information about this package from https://anytree.readthedocs.io/en/latest/installation.html and if you want to install it in your IDE you can search it in that IDE's package finder or download and install this package's wheel file."
   ]
  },
  {
   "cell_type": "markdown",
   "metadata": {},
   "source": [
    "\"sys\" is a package used for manipulating the output of your program. I have used this package in my program to write text files with the outputs printed in them."
   ]
  },
  {
   "cell_type": "markdown",
   "metadata": {},
   "source": [
    "\"Matplotlib.pyplot\" is the package giving python plotting and illustration abilities of MATLAB. It is really easy to use. If you have not plotted anything yet in python, go ahead and read some examples in this package's docs. "
   ]
  },
  {
   "cell_type": "markdown",
   "metadata": {},
   "source": [
    "\"datetime\" package is used to time and record time of the processes and I have used it in the output files to demonstrate the beginning and ending time of some processes."
   ]
  },
  {
   "cell_type": "markdown",
   "metadata": {
    "collapsed": true
   },
   "source": [
    "At this point of my program, I have defined some lists to hold different values like fitness, population, etc. Each one is explained a bit by a comment."
   ]
  },
  {
   "cell_type": "code",
   "execution_count": 2,
   "metadata": {
    "collapsed": false
   },
   "outputs": [
    {
     "ename": "NameError",
     "evalue": "name 'datetime' is not defined",
     "output_type": "error",
     "traceback": [
      "\u001b[1;31m---------------------------------------------------------------------------\u001b[0m",
      "\u001b[1;31mNameError\u001b[0m                                 Traceback (most recent call last)",
      "\u001b[1;32m<ipython-input-2-261f35fb30cb>\u001b[0m in \u001b[0;36m<module>\u001b[1;34m()\u001b[0m\n\u001b[0;32m      1\u001b[0m \u001b[1;31m#general variables\u001b[0m\u001b[1;33m\u001b[0m\u001b[1;33m\u001b[0m\u001b[0m\n\u001b[1;32m----> 2\u001b[1;33m \u001b[0mstartTime\u001b[0m \u001b[1;33m=\u001b[0m \u001b[0mstr\u001b[0m\u001b[1;33m(\u001b[0m\u001b[0mdatetime\u001b[0m\u001b[1;33m.\u001b[0m\u001b[0mnow\u001b[0m\u001b[1;33m(\u001b[0m\u001b[1;33m)\u001b[0m\u001b[1;33m)\u001b[0m\u001b[1;33m\u001b[0m\u001b[0m\n\u001b[0m\u001b[0;32m      3\u001b[0m \u001b[0mpopulation\u001b[0m \u001b[1;33m=\u001b[0m \u001b[1;33m[\u001b[0m\u001b[1;33m]\u001b[0m\u001b[1;33m\u001b[0m\u001b[0m\n\u001b[0;32m      4\u001b[0m \u001b[0mpopVectors\u001b[0m \u001b[1;33m=\u001b[0m \u001b[1;33m[\u001b[0m\u001b[1;33m]\u001b[0m \u001b[1;31m#vectors of the population\u001b[0m\u001b[1;33m\u001b[0m\u001b[0m\n\u001b[0;32m      5\u001b[0m \u001b[0mpopDics\u001b[0m \u001b[1;33m=\u001b[0m \u001b[1;33m[\u001b[0m\u001b[1;33m]\u001b[0m \u001b[1;31m#filtered frequency dics\u001b[0m\u001b[1;33m\u001b[0m\u001b[0m\n",
      "\u001b[1;31mNameError\u001b[0m: name 'datetime' is not defined"
     ]
    }
   ],
   "source": [
    "#general variables\n",
    "startTime = str(datetime.now())\n",
    "population = []\n",
    "popVectors = [] #vectors of the population\n",
    "popDics = [] #filtered frequency dics\n",
    "popPitMet = [] #pitch metric of the population\n",
    "popRhyMet = [] #rhythm metrics of the population\n",
    "popMelIntMet = [] #melodic interval metric of the population\n",
    "popMelBigMet = [] #melodic bigram metric of the population\n",
    "popMelTriMet = [] #melodic trigram metric of the population\n",
    "popChroToneMet = [] #chromatic tone metric of the population\n",
    "popRhyIntMet = [] #rhythmic interval metric of the population\n",
    "popRhyBigMet = [] #rhythmic bigram metric of the population\n",
    "popRhyTriMet = [] #rhythmic trigram metric of the population\n",
    "fitSep = [] #fitnesses of each metric seperated (not the average over all metrics)\n",
    "fitness = []\n",
    "fitAvg = []\n",
    "bestChr = [] #best gathered chromosomes\n",
    "m = 0 #global counter used for counting filtering occurence\n",
    "filNum = 0 #number of filtering occurences"
   ]
  },
  {
   "cell_type": "markdown",
   "metadata": {},
   "source": [
    "The \"startTime\" variable would hold the time of starting the program for being printed in the output files later on.\n",
    "\n",
    "\"population\" is the list of lists holding the chromosomes as trees with terminal nodes holding a tuple of a pitch and a duration each. \n",
    "\n",
    "\"popVectors\" is a list of lists again, holding the vectors of metrics of each chromosome (score).\n",
    "\n",
    "\"popDics\" is a list of dectionaries which has the frequency of each event as the value of each vector element. For instance, \"60:4\" is one of the elements of this dictionary showing that the event of pitch 60 (mid C) which is a vector element of pitech metric for a specific chromosome (score) happens 4 times in that score (in simple terms, mid C note appears 4 times in that score). \n",
    "\n",
    "\"popPitMet\", \"popRhyMet\", \"popMelIntMet\", \"popMelBigMet\", \"popMelTriMet\", \"popChroToneMet\", \"popRhyIntMet\", \"popRhyBigMet\", and \"popRhyTriMet\" are the lists that will hold the results of the analysis of each chromosome, i.e. each score will be analyzed and the vectors of each metric will emerge from this analysis.\n",
    "\n",
    "\"fitSep\" list will hold the fitness of each metric as a seperate value, before we average all of them to give a fitness value for that chromosome (in a list).\n",
    "\n",
    "\"fitness\" is a list that will hold the fitness of each chromosome in a population.\n",
    "\n",
    "\"fitAvg\" will hold the average fitness value of all of the chromosomes in a population and this list will show us the evolution from each generation to the next.\n",
    "\n",
    "\"bestChr\" this list is the most important of all as it will hold the chromosomes with the highest fitness over all of the process (the chromosomes with the fitness higher than a specified threshold).\n",
    "\n",
    "\"m\" and \"filNum\" are the counters for the number of times events' values are filtered. m will count the filters in each vector and filNum is the total number of filterings occured"
   ]
  },
  {
   "cell_type": "markdown",
   "metadata": {
    "collapsed": true
   },
   "source": [
    "Now that we are done with some preperations, we can enter the input values of our Genetic Program:"
   ]
  },
  {
   "cell_type": "code",
   "execution_count": 1,
   "metadata": {
    "collapsed": false
   },
   "outputs": [
    {
     "ename": "NameError",
     "evalue": "name 'np' is not defined",
     "output_type": "error",
     "traceback": [
      "\u001b[1;31m---------------------------------------------------------------------------\u001b[0m",
      "\u001b[1;31mNameError\u001b[0m                                 Traceback (most recent call last)",
      "\u001b[1;32m<ipython-input-1-26e40f07ca61>\u001b[0m in \u001b[0;36m<module>\u001b[1;34m()\u001b[0m\n\u001b[0;32m      6\u001b[0m \u001b[0mminPitch\u001b[0m \u001b[1;33m=\u001b[0m \u001b[0mmin\u001b[0m\u001b[1;33m(\u001b[0m\u001b[0mtPi\u001b[0m\u001b[1;33m)\u001b[0m\u001b[1;33m\u001b[0m\u001b[0m\n\u001b[0;32m      7\u001b[0m \u001b[0msize\u001b[0m \u001b[1;33m=\u001b[0m \u001b[0mlen\u001b[0m\u001b[1;33m(\u001b[0m\u001b[0mtPi\u001b[0m\u001b[1;33m)\u001b[0m\u001b[1;33m\u001b[0m\u001b[0m\n\u001b[1;32m----> 8\u001b[1;33m \u001b[0mdurMap\u001b[0m \u001b[1;33m=\u001b[0m \u001b[0mlist\u001b[0m\u001b[1;33m(\u001b[0m\u001b[0mnp\u001b[0m\u001b[1;33m.\u001b[0m\u001b[0munique\u001b[0m\u001b[1;33m(\u001b[0m\u001b[0mtDu\u001b[0m\u001b[1;33m)\u001b[0m\u001b[1;33m)\u001b[0m\u001b[1;33m\u001b[0m\u001b[0m\n\u001b[0m",
      "\u001b[1;31mNameError\u001b[0m: name 'np' is not defined"
     ]
    }
   ],
   "source": [
    "#target\n",
    "tPi = [64,63,64,63,64,63,64,63,62,61,63,64,64,63,64,63] #traget pitches (MIDI)\n",
    "tDu = [0.5,0.5,0.5,0.5,0.5,0.5,0.25,0.25,0.25,0.5,1,0.25,0.25,0.25,0.25,1] #target durations\n",
    "#target's info\n",
    "maxPitch = max(tPi)\n",
    "minPitch = min(tPi)\n",
    "size = len(tPi)\n",
    "durMap = list(np.unique(tDu))"
   ]
  },
  {
   "cell_type": "markdown",
   "metadata": {},
   "source": [
    "tPi and tDu (short for target pitches and target durations) : Depending on the method you use to extract the pitches and durations, you can input them here. You can use MATLAB or OCTAVE to output these values (extracted from a midi file either downloaded, created, or generated by pdf2music programs) or simply see the score and with a little bit of musical knowledge you can write down the pitches and metrics used in that specific score.\n",
    "\n",
    "NOTE : durations are measured in quarter note unit."
   ]
  },
  {
   "cell_type": "markdown",
   "metadata": {},
   "source": [
    "Now, we extract some information from our raw data, like what the highest and lowest pitches are (maxPitch, minPitch). The size is used later to make trees with the appropriate length.\n",
    "durMap is used to record the variety of durations used. We call it a duration map as it maps the unique durations used in the score and our program will use this information later in making terminal nodes of the generated trees.\n",
    "\n",
    "NOTE: We will be using binary trees so our trees' size should be 2 in a specific power: (2,4,8,16,...). Despite this fact, our program should work with any size of score, right? 'cause not every score is of the size 2^n.  "
   ]
  },
  {
   "cell_type": "markdown",
   "metadata": {},
   "source": [
    "Now, We should define some functions to be used in the body of our program:"
   ]
  },
  {
   "cell_type": "code",
   "execution_count": 3,
   "metadata": {
    "collapsed": true
   },
   "outputs": [],
   "source": [
    "def analyzer(pi, du) :\n",
    "    #making the metrics of the deduced vectors of pitches and durations\n",
    "    pitMet = pitches(pi) #pitch metric\n",
    "    rhyMet = rhythm(du) #rhythm metric\n",
    "    melIntMet = melodicInterval(pi) #melodic interval metric\n",
    "    melBigMet = melodicBigram(pi) #melodic birgam metric\n",
    "    melTriMet = melodicTrigram(pi) #melodic trigram metric\n",
    "    chroToneMet = chromaticTone(pi) #chromatic tone metric\n",
    "    rhyIntMet = rhythmicInterval(du) #rhythmic interval metric\n",
    "    rhyBigMet = rhythmicBigram(du) #rhythmic bigram metric\n",
    "    rhyTriMet = rhythmicTrigram(du) #rhythmic trigram metric\n",
    "    return(pitMet, rhyMet, melIntMet, melBigMet, melTriMet, chroToneMet, rhyIntMet, rhyBigMet, rhyTriMet)"
   ]
  },
  {
   "cell_type": "markdown",
   "metadata": {},
   "source": [
    "This functions purpose is to analyze the input data and find different information about it one by one (each pitch or duration alone) or contextually - using a series of notes. Each function analyzes the input for a certain trait, e.g. the first one is the pitch metric and the last one is the Rhythmic Trigram Metric (you can find the explanation when each of them are introduced later in this article)."
   ]
  },
  {
   "cell_type": "markdown",
   "metadata": {},
   "source": [
    "Note that this function returns the results each of the analysis functions return in the variables defined (pitMet, etc.). With this method implemented here, we can easily give the analyzer function any set of corresponding pitches and durations and get an analysis back (it is important so we can use the same analyzer for the population generated randomly at first and then genetically produced).\n",
    "\n",
    "Now, we can go through the metric functions:"
   ]
  },
  {
   "cell_type": "code",
   "execution_count": 5,
   "metadata": {
    "collapsed": true
   },
   "outputs": [],
   "source": [
    "def pitches(pi) :\n",
    "    return(pi) #pitches are in MIDI format themselves\n",
    "\n",
    "def rhythm(du) :\n",
    "    return(du) #the duration metric is the same as the notes durations"
   ]
  },
  {
   "cell_type": "markdown",
   "metadata": {},
   "source": [
    "As you can see from the comments here, pitch metric is a list of pitches, and rhythm metric is the list of durations. So, simply saying, they are the one by one note values of the input score."
   ]
  },
  {
   "cell_type": "code",
   "execution_count": 6,
   "metadata": {
    "collapsed": true
   },
   "outputs": [],
   "source": [
    "def melodicInterval(pi) :\n",
    "    melIntlist = []\n",
    "    i = 0\n",
    "    while(i < (len(pi) - 1)) :\n",
    "        melIntlist.append(pi[i]-pi[i+1]) #subtrating each elelment from the next one (interval)\n",
    "        i += 1\n",
    "    return(melIntlist)"
   ]
  },
  {
   "cell_type": "markdown",
   "metadata": {},
   "source": [
    "This function is to analyze the input score for intervals of pitches (that's why it is called melodic interval). For example, if we had a 60 pitch followed by a 65, the interval between them is 5 (note that 59 to 64 has the same interval for instance)."
   ]
  },
  {
   "cell_type": "code",
   "execution_count": 9,
   "metadata": {
    "collapsed": true
   },
   "outputs": [],
   "source": [
    "def melodicBigram(pi) :\n",
    "    melBiglist = []\n",
    "    i = 0\n",
    "    while(i < (len(pi) - 2)) :\n",
    "        melBiglist.append(((pi[i]-pi[i+1]),(pi[i+1]-pi[i+2]))) #subtrating each elelment from the next one and that from its \n",
    "        i += 1                                                     #next one and make a tuple of them (bigram)\n",
    "    return(melBiglist)"
   ]
  },
  {
   "cell_type": "markdown",
   "metadata": {},
   "source": [
    "This function analyzes the input score and outputs tuples holding two consecutive intervals. "
   ]
  },
  {
   "cell_type": "code",
   "execution_count": 11,
   "metadata": {
    "collapsed": true
   },
   "outputs": [],
   "source": [
    "def melodicTrigram(pi) :\n",
    "    melTrilist = []\n",
    "    i = 0\n",
    "    while(i < (len(pi) - 3)) :\n",
    "        melTrilist.append(((pi[i]-pi[i+1]),(pi[i+1]-pi[i+2]),(pi[i+2]-pi[i+3]))) #subtrating each elelment from the next one\n",
    "        i += 1                                                                  #and that from its next one and that from its\n",
    "    return(melTrilist)                                                           #next one and make a tuple of them (trigram)"
   ]
  },
  {
   "cell_type": "markdown",
   "metadata": {},
   "source": [
    "This function is like the previous one, but the output is tuples of three interval values."
   ]
  },
  {
   "cell_type": "markdown",
   "metadata": {},
   "source": [
    "NOTE: number of intervals in a score decreases as the number of intervals of the metric increases, e.g. if bigram metric has 10 tupels each showing two intervals, trigram metric has 9."
   ]
  },
  {
   "cell_type": "code",
   "execution_count": 1,
   "metadata": {
    "collapsed": true
   },
   "outputs": [],
   "source": [
    "def chromaticTone(pi) :\n",
    "    chroTonelist = []\n",
    "    i = 0\n",
    "    while(i < len(pi)) :\n",
    "        chroTonelist.append(pi[i]%12)\n",
    "        i += 1\n",
    "    return(chroTonelist)"
   ]
  },
  {
   "cell_type": "markdown",
   "metadata": {},
   "source": [
    "chromaticTone divide all the possible notes into different groups of twelve and shows where that note in our score stands in its own octave. So, it is actually giving every note in our score a value from 0 to 11."
   ]
  },
  {
   "cell_type": "code",
   "execution_count": 3,
   "metadata": {
    "collapsed": true
   },
   "outputs": [],
   "source": [
    "def rhythmicInterval(du) :\n",
    "    rhyIntlist = []\n",
    "    i = 0\n",
    "    while(i < (len(du) - 1)) :\n",
    "        rhyIntlist.append(du[i]-du[i+1]) #subtrating each elelment from the next one (interval)\n",
    "        i += 1\n",
    "    return(rhyIntlist)\n",
    "\n",
    "def rhythmicBigram(du) :\n",
    "    rhyBiglist = []\n",
    "    i = 0\n",
    "    while(i < (len(du) - 2)) :\n",
    "        rhyBiglist.append(((du[i]-du[i+1]),(du[i+1]-du[i+2]))) #subtrating each elelment from the next one and that from its \n",
    "        i += 1                                                  #next one and make a tuple of them (bigram)\n",
    "    return(rhyBiglist)\n",
    "    \n",
    "def rhythmicTrigram(du) :\n",
    "    rhyTrilist = []\n",
    "    i = 0\n",
    "    while(i < (len(du) - 3)) :\n",
    "        rhyTrilist.append(((du[i]-du[i+1]),(du[i+1]-du[i+2]),(du[i+2]-du[i+3]))) #subtrating each elelment from the next one \n",
    "        i += 1                                                                    #and that from its next one and that from its \n",
    "    return(rhyTrilist)                                                             #next one and make a tuple of them (trigram)"
   ]
  },
  {
   "cell_type": "markdown",
   "metadata": {},
   "source": [
    "These three functions roles in our program are the same as the three we had for the melody intervals and tuples of intervals, only here it is done with rhythm instead of melody.\n",
    "\n",
    "Note the comments in the program.\n",
    "\n",
    "NOTE: We have not added these to the lists initiated at the first part of the prorgam. These functions are only the analyzers."
   ]
  },
  {
   "cell_type": "markdown",
   "metadata": {},
   "source": [
    "Now, having all the analysis ready and well-functioning and tested, we are ready to define functions for our genetic algorithm.\n",
    "What is the first step in an evolution? a first population that breeds new generations!"
   ]
  },
  {
   "cell_type": "code",
   "execution_count": 4,
   "metadata": {
    "collapsed": true
   },
   "outputs": [],
   "source": [
    "def initPop() :\n",
    "    population.append([])#for each generation there's a list in the population list\n",
    "    p = 0\n",
    "    while( p < popSize ) :\n",
    "        randNum = np.random.randint(0,funcNum)\n",
    "        root = at.Node(functions[randNum]) #the root of our tree\n",
    "        i = 0\n",
    "        while(i < 2) :\n",
    "            randNum = np.random.randint(0,funcNum)#randint takes the ending limit off off list\n",
    "            at.Node(functions[randNum],parent = root)#did this bc we wanna use descendants of the root\n",
    "            i += 1\n",
    "            \n",
    "        i = 0\n",
    "        while(i < tMaxDep - 2) : #-2 because we took one step in lines 123 and 124 and one step is for leaves\n",
    "            nodes = [node for node in at.LevelOrderIter(root)][-2**(i+1):]\n",
    "            nodesSize = len(nodes)\n",
    "            j = 0\n",
    "            while(j < nodesSize) :\n",
    "                q = 0\n",
    "                while(q < 2) :\n",
    "                    randNum = np.random.randint(0,funcNum)\n",
    "                    at.Node(functions[randNum],parent = nodes[j]) #added to the jth node  \n",
    "                    q += 1\n",
    "                j += 1\n",
    "            i += 1 \n",
    "        #at this point all the branches before leaves are grown\n",
    "        nodes = [node for node in at.LevelOrderIter(root)][-2**(tMaxDep-1):] #nodes right before leaves\n",
    "        nodesSize = len(nodes)\n",
    "        i = 0\n",
    "        while(i < nodesSize) :\n",
    "            j = 0\n",
    "            while(j < 2) :\n",
    "                pitch = np.random.randint(minPitch,maxPitch+1)#randint takes the ending limit off list\n",
    "                randNum = np.random.randint(0,len(durMap))\n",
    "                duration = durMap[randNum]\n",
    "                tup = (pitch,duration)\n",
    "                at.Node(tup,parent = nodes[i])\n",
    "                j += 1\n",
    "            i += 1\n",
    "        population[-1].append(root)\n",
    "        p += 1"
   ]
  },
  {
   "cell_type": "markdown",
   "metadata": {},
   "source": [
    "We have a population list which is going to hold all of the populations - the first and each generatio after. So, in this function we add a new list to the population list to hold our initial population inside. Now, we should add trees to this list. Remember that each tree is an encoding of a score.\n",
    "\n",
    "in the while loop which is over popSize (population size) which we have taken to be constant but can be variable, we start to make each chromosome (tree) in the population by: 1- making a root for our tree 2- adding two nodes to that root (using a loop of two) 3- continue adding nodes to previous ones untill the tree is the size we want, before adding terminal nodes (this size is controlled by a corresponding value tMaxDep - tree maximum depth).\n",
    "\n",
    "NOTE: the value of the nodes lower than terminal nodes of our tree is defined in the body of our program and is a function that applies to the nodes higher than that specific node in the tree.\n",
    "\n",
    "In this part we use **[node for node in at.LevelOrderIter(root)]** to make a list of nodes (it lists the actual nodes and not a copy of them) and then choose **[-2\\*\\*(tMaxDep-1):]** of them (nodes right before leaves) and then add the terminal nodes to them. This is done with the while loop following the generation of that list. we use the size of that list to limit the while loop and start to add two nodes (binary) to each node. Note that each terminal node is a tuple holding a randomly generated pitch and duration chosen in the range of maxPitch and minPitch and from the duration map.\n",
    "\n",
    "Congrats! We have made a tree! We can add this tree to our population list (its initial population list) and go on adding 1 to p to continue and generate the next initial population chromosome."
   ]
  },
  {
   "cell_type": "markdown",
   "metadata": {},
   "source": [
    "What is the next step? we have decoded our chromosomes, which are scores, in the form of binary trees. But, for analysis we need our data to be in the form of the input target score for which we already have some analysis functions, meaning two vectors, a duration and a pitch vector. Hence, we have to have a function which can decode and analyze trees using the same functions analyzing the target vectors."
   ]
  },
  {
   "cell_type": "code",
   "execution_count": 6,
   "metadata": {
    "collapsed": true
   },
   "outputs": [],
   "source": [
    "def decoder() :\n",
    "    popVectors.append([])#for each generation, the popVectors list would have a list of tuples\n",
    "    popPitMet.append([])\n",
    "    popRhyMet.append([])\n",
    "    popMelIntMet.append([])\n",
    "    popMelBigMet.append([])\n",
    "    popMelTriMet.append([])\n",
    "    popChroToneMet.append([])\n",
    "    popRhyIntMet.append([])\n",
    "    popRhyBigMet.append([])\n",
    "    popRhyTriMet.append([])\n",
    "    p = 0\n",
    "    while(p < popSize) :\n",
    "        leaves = [node.name for node in at.LevelOrderIter(population[-1][p])][-(2**tMaxDep):]\n",
    "        funcNodes = [node.name for node in at.LevelOrderIter(population[-1][p])][:-(2**tMaxDep)]\n",
    "        summ = 0\n",
    "        i = 1\n",
    "        while(i < tMaxDep + 1) : #n-1 iterations/ functions translation and applications\n",
    "            num = 2**(tMaxDep-i) #number of function nodes at depth n-i\n",
    "            j = 0\n",
    "            while(j < num ) : #j's starting at 1\n",
    "                func = funcNodes[summ+j]\n",
    "                tups = leaves[j * 2**i : j * 2**i + 2**i]\n",
    "                leaves[j * 2**i : j * 2**i + 2**i] = funcApplier(func,tups,i) #replaces the chosen sequence with the one which func is applied to\n",
    "                j += 1\n",
    "            summ += num\n",
    "            i += 1\n",
    "            \n",
    "        pVec = []\n",
    "        dVec = []\n",
    "        i = 0\n",
    "        while(i < 2**tMaxDep) : #did this so that we have a tuple of 2 vectors, 1 for pitches and the other for durations\n",
    "            pVec.append(leaves[i][0])\n",
    "            dVec.append(leaves[i][1])\n",
    "            i += 1\n",
    "        popVectors[-1].append((pVec,dVec)) #for each chromosome there would be a tuple of 2 lists, first pitches and second durations\n",
    "        \n",
    "        chrPitMet, chrRhyMet, chrMelIntMet, chrMelBigMet, chrMelTriMet, chrChroToneMet, chrRhyIntMet, chrRhyBigMet, chrRhyTriMet = analyzer(pVec ,dVec)\n",
    "        popPitMet[-1].append(chrPitMet)\n",
    "        popRhyMet[-1].append(chrRhyMet)\n",
    "        popMelIntMet[-1].append(chrMelIntMet)\n",
    "        popMelBigMet[-1].append(chrMelBigMet)\n",
    "        popMelTriMet[-1].append(chrMelTriMet)\n",
    "        popChroToneMet[-1].append(chrChroToneMet)\n",
    "        popRhyIntMet[-1].append(chrRhyIntMet)\n",
    "        popRhyBigMet[-1].append(chrRhyBigMet)\n",
    "        popRhyTriMet[-1].append(chrRhyTriMet)\n",
    "        p += 1\n",
    "    "
   ]
  },
  {
   "cell_type": "markdown",
   "metadata": {},
   "source": [
    "When a generation is completed, they are given to the decoder function and as I said before the role of this function is to add their vectors of different metrics to their lists. Ss, that is why each of the 9 metric lists are given an empty list at the first of the function.\n",
    "\n",
    "The while loop goes over all of the members of the given popualtion. For each p (member), \\[node.name for node in at.LevelOrderIter(population[-1][p])\\] gives all of the nodes in that tree. We want to divide these nodes into two groups, one for the terminal nodes showing the pitch and duration tuples (**[-(2\\*\\*tMaxDep):]**) and the other for lower nodes containing the functions that apply to higher nodes up to the terminal nodes (**[:-(2\\*\\*tMaxDep)]**).\n",
    "\n",
    "Now that the terminal nodes and the functions of a tree are seperated and are listed in an order that it is easy to follow in a  binary tree, we make a loop for every level of the tree (a **2^n**-size tree has n levels (also called depth or height)!) and inside that loop we take the number of nodes (functions) in num variable. With a loop of that number we start to apply those functions to higher nodes (note that we start from the function nodes right before the corresponding terminal nodes (variable : leaves) and we go down from there - **funcNodes[summ+j]**). At the end of the first loop we have applied the imminent function nodes to the terminal nodes and we are ready to apply the next layer of function to the results of this layer (output of these functions).\n",
    "\n",
    "NOTE: how each function is applied is explained in the **funcApplier** function.\n",
    "\n",
    "After this loop is finished processing the tree and decoding it to a list of final terminal nodes (containing tuples of a duration and pitch each), we make a loop of tree size, and start to adding the values of each tuple to two simple vectors of durations and pitches. Now, we have two vectors in resembelence with the target vectors. Hence we are ready to analyze this randomly generated tree and extract its information. So, we simply call the analyzer function and give it the two decoded vectors - **analyzer(pVec ,dVec)**. As I said before, the analyzer returns the values and they are received in the appropriate in an assignment. The last step of this function is to simply add each analysis for each metric to the corresponding metric list ([-1] is for reaching the appropriate population which as you know can be implemented by -1 as this function is called at each generation)."
   ]
  },
  {
   "cell_type": "markdown",
   "metadata": {},
   "source": [
    "Remember that I said applying lower nodes of our tree on the terminal nodes is done by the funcApplier function? Now we define this function and see how it works:"
   ]
  },
  {
   "cell_type": "code",
   "execution_count": 1,
   "metadata": {
    "collapsed": true
   },
   "outputs": [],
   "source": [
    "def funcApplier(func,tups,i) :\n",
    "    if(func == 'con') :\n",
    "        pass\n",
    "    if(func == 'rev') :\n",
    "        tups.reverse()\n",
    "    if(func == 'sub') :\n",
    "        #print('tups :', tups)\n",
    "        mid = int(len(tups)/2)\n",
    "        dummy = tups[:mid]\n",
    "        tups[:mid] = tups[mid:]\n",
    "        tups[mid:] = dummy\n",
    "    return(tups)"
   ]
  },
  {
   "cell_type": "markdown",
   "metadata": {},
   "source": [
    "This function takes a function node (lower than terminal nodes) and the corresponding nodes (in \"tups\"). Remember that we cannot use the list of functions which we are going to define in the body of our program later and before intialization, for we should define the meaning of each of the functions in that list here one by one and check the function node received by the funcApplier against them. \n",
    "\n",
    "\"con\" : concatenation, it simply connects the corresponding terminal nodes.\n",
    "\n",
    "\"rev\" : reversing, it reverses the sequence of the corresponding terminal nodes.\n",
    "\n",
    "\"sub\" : substitution, it substitutes the left half with the right half of the corresponding terminal nodes (remember that our trees are binary).\n",
    "\n",
    "NOTE : the length of the tups is going to be even so that int behind len(tups) is not for making it an integer because it is a floating point number, it is just because this function will give us a float number (e.g. 2.0) and we want it to be an integer.\n",
    "\n",
    "NOTE : when we do these changes (applied the function) we have to return the resultant tups to be inserted in the original tupels places by assignment.\n",
    "\n",
    "NOTE: Did you notice i was received by the function but was never used? this value is the variable of the loop that calls this function iteratively and is only used here for debugging using print commands! "
   ]
  },
  {
   "cell_type": "markdown",
   "metadata": {},
   "source": [
    "Now that we have seen the compatibility of our analyzer with the newly generated population and we have made sure that the it works with our new generations we are ready to continue with our genetic algorithm and make new generations of the initial population by genetic operators (if you have info on genetic programming, you know that there are various kind of operators but here, I have used the three main ones). But before breeding! the kernel of each genetic algorithm:"
   ]
  },
  {
   "cell_type": "code",
   "execution_count": 5,
   "metadata": {
    "collapsed": true
   },
   "outputs": [],
   "source": [
    "def Fitness(fRate, g) :\n",
    "    global filNum\n",
    "    global m\n",
    "    fitSep.append([]) #for a generation\n",
    "    popDics.append([]) #for a generation\n",
    "    fitness.append([]) #for a generation\n",
    "    \n",
    "    p = 0\n",
    "    while(p < popSize) :\n",
    "        popDics[-1].append([])\n",
    "\n",
    "        i = 0\n",
    "        while(i < lenMets) : #ith popmetric\n",
    "            vec = popMetrics[i][-1][p] #from the ith metric list, pth chromosome's vector of the metric of the last generation\n",
    "            mDic = {x : vec.count(x) for x in vec}\n",
    "            dummy = filtering(list(mDic.values()), mDic, fRate) #filters the less frequent events\n",
    "            mDic = dummy\n",
    "            filNum += m\n",
    "            popDics[-1][-1].append(mDic)\n",
    "            i += 1\n",
    "\n",
    "        FitSep(popDics,tDics,p)        \n",
    "        p += 1 \n",
    "\n",
    "    p = 0\n",
    "    while(p < popSize) :    \n",
    "        fitness[-1].append(sum(fitSep[-1][p])/len(fitSep[-1][p]))#making output of the best chromosomes\n",
    "        if(fitness[-1][-1] > 0.9) :\n",
    "            bestChr.append(( TreeCopier(population[-1][p],tMaxDep),  fitness[-1][-1], g+1, p)) #g+1 is bc the first population\n",
    "        p += 1                                                                       # is random and we have gs+1 populations and gs generations!\n",
    "        \n",
    "        \n",
    "def filtering(vec ,mDic, fRate) : #filtering the less frequent events\n",
    "    global m\n",
    "    summ = sum(vec) #summation of all the events happened\n",
    "    i = 0\n",
    "    m = 0 #counter of filtering in one dic\n",
    "    vecLen = len(vec)\n",
    "    while(i < vecLen) :\n",
    "        if(vec[i]/summ < fRate) :\n",
    "            m += 1\n",
    "            vec[i] = 0\n",
    "        i += 1\n",
    "    i = 0\n",
    "    while(i < vecLen) : #update the dic\n",
    "        mDic[list(mDic.keys())[i]] = vec[i] #mDic.keys() is a dictionary object\n",
    "        i += 1\n",
    "    return(mDic) \n"
   ]
  },
  {
   "cell_type": "markdown",
   "metadata": {},
   "source": [
    "I leave the specific details of this function to another post of my blog, https://arashfeizpour.github.io/FitnessFunctionEMC/, and I think a simple explanation here would suffice.\n",
    "\n",
    "There are 4 simple steps followed in this function:\n",
    "\n",
    "1 - Add new lists for the new population in the related lists.\n",
    "\n",
    "2 - Through a while loop, turn the result of the analysis into dictionaries which can show a vector with details, for each of the chromosomes of the population (when doing so, filter the results that are way off - least probable).\n",
    "\n",
    "3 - Find the fitness of each metric for each chromomsome seperately by FitSep function (fitness seperated)\n",
    "\n",
    "4 - Average the fitness of all of the 9 metrics for a chromomsome and add this average to the fitness list (to the corresponding list in this list - correct population).\n",
    "\n",
    "NOTE : We have made a list called bestChr which will contain the chromosomes with fitness higher than a limit which we have specified as 0.9 or 90 percent resembelence here. When we calculate each chromosome's fitness, we check if it is fitter than 0.9 and if so we add it to this list. Later, the best of this list would be the single output of our program."
   ]
  },
  {
   "cell_type": "code",
   "execution_count": 6,
   "metadata": {
    "collapsed": true
   },
   "outputs": [],
   "source": [
    "def FitSep(popDics,tDics,p) :\n",
    "    fitSep[-1].append([])\n",
    "    i = 0\n",
    "    while(i < lenMets) : #ith metrics            \n",
    "        popMet = popDics[-1][-1][i] #ith\n",
    "        tMet = tDics[i]\n",
    "        if(len(popMet) >= len(tMet)) :\n",
    "            base = tMet\n",
    "            dep = popMet\n",
    "        else :\n",
    "            base = popMet\n",
    "            dep = tMet\n",
    "        #print(p , ':\\n ', i , ':' , base,'\\n', dep)\n",
    "        j = 0\n",
    "        summation = 0\n",
    "        bSizeS, dSizeS = 0 , 0\n",
    "        while(j < len(base)) :\n",
    "            if(list(base.keys())[j] in dep) :\n",
    "                summation += (  list(base.values())[j] * dep[list(base.keys())[j]]  )\n",
    "            bSizeS += (list(base.values())[j]) **2\n",
    "            j += 1\n",
    "        j = 0\n",
    "        while(j < len(dep)) :\n",
    "            dSizeS += (list(dep.values())[j]) **2\n",
    "            j += 1\n",
    "        dSize = np.sqrt(dSizeS)\n",
    "        bSize = np.sqrt(bSizeS)\n",
    "        #print('base :', bSize,'dep :', dSize,'sum :', summation)\n",
    "        fitSep[-1][-1].append(summation/(bSize * dSize))\n",
    "        i += 1"
   ]
  },
  {
   "cell_type": "markdown",
   "metadata": {},
   "source": [
    "As the fitness is the most important and the key part of a genetic algorithm, I consider elaboration substantial here. This function gets the population's dictionaries (popDics) and the target dictionaries (made in the body of our program before intialization of the genetic algorithm).\n",
    "\n",
    "Remember we added a list to the FitSep as we want to work with a new generation? here, we add a list to that list for each chromosomes' metrics. Then, starting a loop of lenMets (length of the metrics list), we work on each metric of a chromosome.\n",
    "\n",
    "We take the dictionary of that metric popDics[-1][-1][i] and that of the target, and through a if statement take the shorter one as the base and the other of these two, as the dependent vector (this is only done for the reduction of the calculations and programming). Through the following loop we take each element of the vector and sum the product of it with the corresponding value in the dependent vector:\n",
    "\n",
    "summation += (  list(base.values())[j] * dep[list(base.keys())[j]]  )\n",
    "\n",
    "Note the if statement inside this loop; its role is to omit the terms which has no corresponding value (are zero in other words) in the other vector. bSize and dSize hold the actual vector size of the base and dependent vectors (from their squared values - bSizeS and dSizeS).\n",
    "\n",
    "The last step : using the cosine formula to find the resembelence value (1>cos>0) and adding this value to the corresponding list (for this metric of this chromosome) and going on to the next (i+1th) metric.\n",
    "\n",
    "NOTE: Did you notice i was received by the function but was never used? this value is the variable of the loop that calls this function iteratively and is only used here for debugging using print commands! \n",
    "\n",
    "Now that we have taken care of giving a score to each chromosome of a population, we can choose some according to these scores and give them the opportunity to make stronger and higher scoring babies (the logic behind crossover operator of genetic algorithms):"
   ]
  },
  {
   "cell_type": "code",
   "execution_count": 1,
   "metadata": {
    "collapsed": true
   },
   "outputs": [],
   "source": [
    "def Selection(lPopulation,lFitness,kTS,eTS) :\n",
    "    #print('\\n-------------\\n',lFitness)\n",
    "    pars = [] #parents\n",
    "    i = 0\n",
    "    while(i < 2) :\n",
    "        canPars = [] #candidate parents\n",
    "        j = 0\n",
    "        while(j < kTS) : #choosing kTS parents randomly\n",
    "            randNum = np.random.randint(0,popSize)\n",
    "            canPars.append( (lFitness[randNum], lPopulation[randNum]) )\n",
    "            print(j, 'j : ', randNum)\n",
    "            j += 1\n",
    "        print(canPars)\n",
    "        randNum = float(np.random.random(1))\n",
    "        canPars = sorted(canPars, key=lambda canPars: canPars[0])\n",
    "        canPars.reverse()\n",
    "        print(canPars,'\\n --------------------------------')\n",
    "        j = 0\n",
    "        ind = 0\n",
    "        while(j < kTS) :\n",
    "            ind += (1-eTS)*(eTS**j)\n",
    "            if(j == kTS-1) :\n",
    "                pars.append(canPars[j][1])\n",
    "                print('par %d from sorted canPars ;' %(j), i, '\\n', canPars[j][0])\n",
    "                break\n",
    "            if(randNum < ind) :\n",
    "                pars.append(canPars[j][1])\n",
    "                print('par %d from sorted canPars ;' %(j), i, '\\n', canPars[j][0])\n",
    "                break\n",
    "            j += 1\n",
    "        i += 1    \n",
    "    return(TreeCopier(pars[0],tMaxDep), TreeCopier(pars[1],tMaxDep))"
   ]
  },
  {
   "cell_type": "markdown",
   "metadata": {},
   "source": [
    "This function too is explained in details in another post of my blog (https://arashfeizpour.github.io/SelectionOperatorEMC/). Note that every two parents that are chosen by this function will make two new chromosomes (that can be generally having variable sizes but here we have limited them to have the same size as their parents).\n",
    "\n",
    "NOTE: This function uses the Tournament Selection method."
   ]
  },
  {
   "cell_type": "markdown",
   "metadata": {},
   "source": [
    "But, what happens when we have two parents chosen by nature to be the stronger ones and the ancestors to future generatiosn? "
   ]
  },
  {
   "cell_type": "code",
   "execution_count": 2,
   "metadata": {
    "collapsed": true
   },
   "outputs": [],
   "source": [
    "def Crossover(p1 , p2, cRate, treeSize) : \n",
    "    randNum = float(np.random.random(1))\n",
    "    if(randNum < cRate) : #checking crossover rate\n",
    "        randNum = float(np.random.random(1))\n",
    "        if(randNum < terPro) : #terminal nodes\n",
    "            locus = np.random.randint(0,2**tMaxDep)\n",
    "            leaves1 = [node for node in at.LevelOrderIter(p1)][-(2**tMaxDep):]\n",
    "            leaves2 = [node for node in at.LevelOrderIter(p2)][-(2**tMaxDep):]\n",
    "            dummy = leaves1[locus].name\n",
    "            leaves1[locus].name = leaves2[locus].name\n",
    "            leaves2[locus].name = dummy\n",
    "            print('crossover : leaves : ', locus)\n",
    "        else : #function nodes\n",
    "            locus = np.random.randint(1,treeSize-(2**tMaxDep))\n",
    "            print('crossover : functions : ', locus)\n",
    "            funcNodes1 = [node for node in at.LevelOrderIter(p1)][:-(2**tMaxDep)]\n",
    "            funcNodes2 = [node for node in at.LevelOrderIter(p2)][:-(2**tMaxDep)]\n",
    "            #print('locus : ', locus)\n",
    "            par = funcNodes1[locus].parent\n",
    "            if(funcNodes1[locus] == par.children[1]) :\n",
    "                par1 = funcNodes1[locus].parent\n",
    "                par2 = funcNodes2[locus].parent\n",
    "                a1 = funcNodes1[locus]\n",
    "                a2 = funcNodes2[locus]\n",
    "                a1.parent = par2\n",
    "                a2.parent = par1\n",
    "            else :\n",
    "                #print('\\n locus : ' , locus )\n",
    "                a1 = funcNodes1[locus].siblings[0]\n",
    "                b1 = funcNodes1[locus]\n",
    "                a2 = funcNodes2[locus].siblings[0]\n",
    "                b2 = funcNodes2[locus]\n",
    "                par1 = a1.parent\n",
    "                par2 = a2.parent\n",
    "                a1.parent = None\n",
    "                b1.parent = None\n",
    "                a2.parent = None\n",
    "                b2.parent = None\n",
    "                a1.parent = par2\n",
    "                a2.parent = par1\n",
    "                b1.parent = par1\n",
    "                b2.parent = par2\n",
    "        return(p1,p2)\n",
    "    else :\n",
    "        print('no crossover!')\n",
    "        return(p1, p2)"
   ]
  },
  {
   "cell_type": "markdown",
   "metadata": {},
   "source": [
    "This function takes the two parents selected by the selection operator and firstly checks if any crossover would happen at all. If yes, some process is done on the both of them to make the crossovered babies, and if not, they are copied as babies.\n",
    "\n",
    "The random number generated at the first line of the function is the agent for checking (according to cRate or crossover rate) if the crossover would happen for these two selected parents. In the body of the process for crossovering (when the condition of the if statement is satisfied) we generate another random number called \"locus\" (integer and between all of the function and terminal nodes) and this would be our point of crossover.\n",
    "\n",
    "NOTE: We could and it is common to choose several points for crossover operator.\n",
    "\n",
    "But, it is a little bit different when we use a terminal locus vs. a function one. So we check where the randomly chosen locus is by using the counting system (preset by the anytree package) used to define the nodes in the first place (counting from the terminal nodes and going to the root node). The first 2^tMaxDep are terminal nodes. After that we have two conditions:\n",
    "\n",
    "a) Terminal nodes: We simply use a dummy variable and change the name of the terminal nodes of the binary tree\n",
    "\n",
    "b) Function nodes: We first check if the function node is the last node or the first (tree is binary and each node has two descendents), if it was the last, we simply substitute the subtrees using a dummy variable. If not, we have to unattach the two subtrees from their parent node (parent of the locus), and after substitution, attach them with the correct order.\n",
    "\n",
    "NOTE : The correct order is of high importance here, every node added to a node is added at the end of the other subnodes. For example, if we have a node called \"jake\" which has two subnodes called \"james\" and \"John\" in this order and we unattach james and try to add it again the order of nodes is going to be changed to \"John\" and then \"james\"!\n",
    "\n",
    "NOTE :** .parent and .children** for each node, gives the parent of that certain node or the subtrees all the way up to the terminal nodes.\n",
    "\n",
    "NOTE : **node.parent = None** would unattach a node and its subtrees.\n"
   ]
  },
  {
   "cell_type": "code",
   "execution_count": 1,
   "metadata": {
    "collapsed": true
   },
   "outputs": [],
   "source": [
    "def Mutation(child1, child2, mutRate, tMaxDep) :\n",
    "    children = [child1, child2]\n",
    "    #print('before :\\n',at.RenderTree(children[0], style=at.AsciiStyle()).by_attr()) #for checking\n",
    "    i = 0\n",
    "    while(i < 2) :\n",
    "        randNum = float(np.random.random(1))\n",
    "        if(randNum < mutRate) :\n",
    "            randNum = float(np.random.random(1))\n",
    "            if(randNum < 0.9) : #terminal nodes\n",
    "                pitch = np.random.randint(minPitch,maxPitch+1) #randint takes the ending limit off off list\n",
    "                randNum = np.random.randint(0,len(durMap))\n",
    "                #print(i,'terminal locus :', randNum)\n",
    "                duration = durMap[randNum]\n",
    "                tup = (pitch,duration)\n",
    "                randNum = np.random.randint(0,2**tMaxDep)\n",
    "                leaves = [node for node in at.LevelOrderIter(children[i])][-(2**tMaxDep):]\n",
    "                leaves[randNum].name = tup   \n",
    "            else : #function nodes\n",
    "                funcNodes = [node for node in at.LevelOrderIter(children[i])][:-(2**tMaxDep)]\n",
    "                locus = np.random.randint(1,treeSize-(2**tMaxDep))\n",
    "                #print(i,'function locus :', locus)\n",
    "                height = funcNodes[locus].height\n",
    "                newTree = TreeMaker(height)\n",
    "                #print('newTree :\\n',at.RenderTree(newTree, style=at.AsciiStyle()).by_attr()) #for checking the trees made\n",
    "                par = funcNodes[locus].parent\n",
    "                if(funcNodes[locus] == par.children[1]) :\n",
    "                    funcNodes[locus].parent = None\n",
    "                    newTree.parent = par\n",
    "                else :\n",
    "                    dummy = funcNodes[locus].siblings[0]\n",
    "                    funcNodes[locus].siblings[0].parent = None\n",
    "                    funcNodes[locus].parent = None\n",
    "                    newTree.parent = par\n",
    "                    dummy.parent = par    \n",
    "                #print(i, ' : function :', locus) #for checking                         \n",
    "        i += 1\n",
    "    #print('after :\\n',at.RenderTree(children[0], style=at.AsciiStyle()).by_attr(),'\\n','------------------------') #for checking\n",
    "    return(children[0], children[1])"
   ]
  },
  {
   "cell_type": "markdown",
   "metadata": {},
   "source": [
    "Now, any child may have a slight chance of being mutated (for better or worse). It is indicated by the random less than one value generated in the first line of the loop and as the previous function if the condition of the if statement is not satisfied the children are returned unchanged. \n",
    "\n",
    "Mutation is done with 90% probability on terminal nodes and with 10% on function nodes. In this choice of values we have taken into account the scarcity of mutations.\n",
    "\n",
    "In the terminal nodes, a pitch and duration is randomly chosen within the defined limits of the target score. Then, a random number is generated in the range of terminal nodes and the newly chosen pitch and duration is inserted in that node instead of the original tuple it was holding.\n",
    "\n",
    "Yet, if the function nodes are chosen (i.e. random number is in that 10%), we first need to choose a random locus. Then, we check the height of the subtree of that locus and make another subtree with the same size but with randomly chosen nodes.\n",
    "\n",
    "NOTE: Next we will define a function to generate random trees of any size? Now you understand why is it handy to write a very general function. \n",
    "\n",
    "Now, based on the order of children nodes (as we taken carefully into account in the former function), we unttach the original subtree and then add the randomly generated new one."
   ]
  },
  {
   "cell_type": "code",
   "execution_count": 2,
   "metadata": {
    "collapsed": true
   },
   "outputs": [],
   "source": [
    "def TreeMaker(height) : #makes a tree of the desired height randomly\n",
    "    randNum = np.random.randint(0,funcNum)\n",
    "    root = at.Node(functions[randNum]) #the root of our tree            \n",
    "    i = 0\n",
    "    while(i < height - 1) : #-1 because we took one step in lines 123 and 124 and one step is for leaves\n",
    "        nodes = [node for node in at.LevelOrderIter(root)][-2**(i):]\n",
    "        nodesSize = len(nodes)\n",
    "        j = 0\n",
    "        while(j < nodesSize) :\n",
    "            q = 0\n",
    "            while(q < 2) :\n",
    "                randNum = np.random.randint(0,funcNum)\n",
    "                at.Node(functions[randNum],parent = nodes[j]) #added to the jth node  \n",
    "                q += 1\n",
    "            j += 1\n",
    "        i += 1 \n",
    "        #at this point all the branches before leaves are grown\n",
    "    nodes = [node for node in at.LevelOrderIter(root)][-2**(i):] #nodes right before leaves ***note that when the previous loop ends, i = tMaxDep - 1\n",
    "    nodesSize = len(nodes)\n",
    "    i = 0\n",
    "    while(i < nodesSize) :\n",
    "        j = 0\n",
    "        while(j < 2) :\n",
    "            pitch = np.random.randint(minPitch,maxPitch+1)#randint takes the ending limit off off list\n",
    "            randNum = np.random.randint(0,len(durMap))\n",
    "            duration = durMap[randNum]\n",
    "            tup = (pitch,duration)\n",
    "            at.Node(tup,parent = nodes[i])\n",
    "            j += 1\n",
    "        i += 1\n",
    "    return(root)"
   ]
  },
  {
   "cell_type": "markdown",
   "metadata": {},
   "source": [
    "For making trees of the initial population and later on (as you have seen in the last function) we need to generate new random trees within set limits. So here we have defined a function called \"TreeMaker\" which takes the height of the wanted tree and generates a suitable tree.\n",
    "\n",
    "The random number generated in the first line is for choosing among the list of functions, randomly. Then, we define the root of the tree by that random selection and start to add two nodes to it to initiate our tree using a while loop. Then in a loop of height - 1 iterations, we take the nodes of each height starting from the two nodes attached to the root and we add binary nodes to each one using another loop of nodeSize iterations. \n",
    "\n",
    "Now, we take the nodes right before the leaves and add random tuples of pitches and durations, as we did before, and at last we return the resulting tree.\n",
    "\n",
    "Now that everything is ready, we need some outputs and demonstrations before we get to the body of the program. "
   ]
  },
  {
   "cell_type": "code",
   "execution_count": 3,
   "metadata": {
    "collapsed": true
   },
   "outputs": [],
   "source": [
    "def Plotter(dic, tDic, metNames) :\n",
    "    fig, ax = plt.subplots() \n",
    "    checkList = [] #to have a reference for the plot\n",
    "    dicList = [] #This list and the next are going to be made of the same size\n",
    "    tDicList = []\n",
    "    i = 0\n",
    "    while(i < len(dic)) :\n",
    "        checkList.append(list(dic.keys())[i])\n",
    "        dicList.append(list(dic.values())[i])\n",
    "        if(list(dic.keys())[i] in list(tDic.keys())) :\n",
    "            tDicList.append(tDic[list(dic.keys())[i]])\n",
    "        else :\n",
    "            tDicList.append(0)       \n",
    "        i += 1\n",
    "    i = 0\n",
    "    while(i < len(tDic)) :\n",
    "        if(list(tDic.keys())[i] not in checkList) :\n",
    "            dicList.append(0)\n",
    "            tDicList.append(list(tDic.values())[i])\n",
    "            checkList.append(list(tDic.keys())[i])\n",
    "        i += 1\n",
    "        \n",
    "    N = len(checkList)\n",
    "    ind = np.arange(0,N)  # the x locations for the groups\n",
    "    width = 0.4       # the width of the bars\n",
    "    rects1 = ax.bar(ind, dicList, width, color='r')\n",
    "    rects2 = ax.bar(ind + width, tDicList, width, color='y')\n",
    "    ax.legend((rects1[0], rects2[0]), ('Population', 'Target'))\n",
    "    ax.set_xticks(ind + width)\n",
    "    ax.set_xticklabels(checkList, rotation = 90)\n",
    "    ax.set_ylabel('Frequency')\n",
    "    ax.set_xlabel('events')\n",
    "    ax.set_title('Frequencies by final metrics and target metrics\\n %s' % (metNames[j]))\n",
    "    autolabel(rects1,ax)\n",
    "    autolabel(rects2,ax)\n",
    "    plt.savefig('comparison %s.jpg' % (metNames[j]), bbox_inches='tight')"
   ]
  },
  {
   "cell_type": "markdown",
   "metadata": {},
   "source": [
    "Using this function we want to check the success of each chromosome's metrics comparing them against the target's. First we make some lists and in the first line we make a grounding for our diagrams to be plotted on. The checklist is only a reference fro the plot and to check tDics against later to bring the vector to the required size for plotting (e.g. bringing (1,2,3) to the size of (1,2,3,4,5) would make it look like (1,2,3,0,0), hence we can plot each component versus the other and check the behaviour of the vector in general). \n",
    "\n",
    "For doing so, we need to make a loop and firstly check the availability of each component of the dic versus the target. If it existed in the target, we add it to the tDicList and if not, we add a zero to the tDicList. Then, it is time to process in reverse. We check if any component is left in the target vector and if anything was found we add a zero to the chromosome's vector and add the keys to the checkList and the values to the tDicList.\n",
    "\n",
    "NOTE: The order of adding stuff to different lists is of utmost imporatnce here, so be alert not to mess the order and get a faulty output!\n",
    "\n",
    "Now, it is time to plot what we have processed. We define N points to plot bars on, assign the width of each bar, and add the bars using rects1 and rects2 (note the usage of N points and width for assigning the position of rectangles). Then we add a legend so we understand what each bar is showing and after that we add some labels and titles and stuff.\n",
    "\n",
    "NOTE: It is very important to have these labels and topics and legends as at the end of the prorgam we are going to have a lot of diagrams and output files and it is extremely easy to get lost if these are not procrastinated.\n",
    "\n",
    "NOTE: autolabel function can be used to label the value of each bar (defined next).\n",
    "\n",
    "At last, we save the resulting figure as the output for this part's process."
   ]
  },
  {
   "cell_type": "code",
   "execution_count": 4,
   "metadata": {
    "collapsed": true
   },
   "outputs": [],
   "source": [
    "def autolabel(rects,ax): #labels of the bars    \n",
    "    for rect in rects:\n",
    "        height = rect.get_height()\n",
    "        ax.text(rect.get_x() + rect.get_width()/2., 0.8 *height,\n",
    "                '%d' % height,\n",
    "                ha='center', va='bottom')"
   ]
  },
  {
   "cell_type": "markdown",
   "metadata": {},
   "source": [
    "Here, we have defined a function that gets the bars of the plot as rects and the variable ax and labels the bars using them. We make a loop that iterates each bar of the rects variable, finds its height using .get_height(), and then adds the corresponding text. You can easily check the arguments and set them as you like.\n",
    "\n",
    "NOTE: .get_x() returns the position of that bar on the axis so we can use that position + half of the width of the bar to add our text in the middle of that bar."
   ]
  },
  {
   "cell_type": "markdown",
   "metadata": {},
   "source": [
    "We know that every set of functions needs a body to call and control them to get the required outcome. So, now we need to go ahead and write some code to connect all the dots we have drawn."
   ]
  },
  {
   "cell_type": "code",
   "execution_count": 8,
   "metadata": {
    "collapsed": false
   },
   "outputs": [
    {
     "ename": "NameError",
     "evalue": "name 'np' is not defined",
     "output_type": "error",
     "traceback": [
      "\u001b[1;31m---------------------------------------------------------------------------\u001b[0m",
      "\u001b[1;31mNameError\u001b[0m                                 Traceback (most recent call last)",
      "\u001b[1;32m<ipython-input-8-15590801e8b3>\u001b[0m in \u001b[0;36m<module>\u001b[1;34m()\u001b[0m\n\u001b[0;32m      2\u001b[0m \u001b[1;31m### limits : a) lowest and highest pitches used, b)     duration map, c)        tree max-depth, d)      crossover rate : 0.9, e)        Population size: 100, f)        Mutation rate: 0.5, g)  0.9 choosing a node which is a terminal and 0.1 otherwise, h)   Tournament selection: k = 5, e = 0.1, i) Fitness: Cosine similarity to target piece, j) Filtering of target vectors: 1%, k)     Terminals: simple (pitch, duration), l) Initialization method: full, m) a list of functions : (concatenation : “con”, [reversing : “rev”, substitution : “sub”, etc.])\"\"\"\u001b[0m\u001b[1;33m\u001b[0m\u001b[1;33m\u001b[0m\u001b[0m\n\u001b[0;32m      3\u001b[0m \u001b[1;31m### use maxPitch and minPitch and durMap for a and b\u001b[0m\u001b[1;33m\u001b[0m\u001b[1;33m\u001b[0m\u001b[0m\n\u001b[1;32m----> 4\u001b[1;33m \u001b[0mtMaxDep\u001b[0m \u001b[1;33m=\u001b[0m \u001b[0mint\u001b[0m\u001b[1;33m(\u001b[0m\u001b[0mnp\u001b[0m\u001b[1;33m.\u001b[0m\u001b[0mlog\u001b[0m\u001b[1;33m(\u001b[0m\u001b[0msize\u001b[0m\u001b[1;33m)\u001b[0m \u001b[1;33m//\u001b[0m \u001b[0mnp\u001b[0m\u001b[1;33m.\u001b[0m\u001b[0mlog\u001b[0m\u001b[1;33m(\u001b[0m\u001b[1;36m2\u001b[0m\u001b[1;33m)\u001b[0m\u001b[1;33m)\u001b[0m \u001b[1;33m+\u001b[0m \u001b[1;36m1\u001b[0m \u001b[1;31m#tree max-depth\u001b[0m\u001b[1;33m\u001b[0m\u001b[0m\n\u001b[0m\u001b[0;32m      5\u001b[0m \u001b[0mcRate\u001b[0m \u001b[1;33m=\u001b[0m \u001b[1;36m0.9\u001b[0m \u001b[1;31m#crossover rate\u001b[0m\u001b[1;33m\u001b[0m\u001b[0m\n\u001b[0;32m      6\u001b[0m \u001b[0mpopSize\u001b[0m \u001b[1;33m=\u001b[0m \u001b[1;36m5\u001b[0m \u001b[1;31m#population size\u001b[0m\u001b[1;33m\u001b[0m\u001b[0m\n",
      "\u001b[1;31mNameError\u001b[0m: name 'np' is not defined"
     ]
    }
   ],
   "source": [
    "#BODY\n",
    "### limits : a)\tlowest and highest pitches used, b)\tduration map, c)\ttree max-depth, d)\tcrossover rate : 0.9, e)\tPopulation size: 100, f)\tMutation rate: 0.5, g)\t0.9 choosing a node which is a terminal and 0.1 otherwise, h)\tTournament selection: k = 5, e = 0.1, i) Fitness: Cosine similarity to target piece, j) Filtering of target vectors: 1%, k)\tTerminals: simple (pitch, duration), l)\tInitialization method: full, m)\ta list of functions : (concatenation : “con”, [reversing : “rev”, substitution : “sub”, etc.])\"\"\"\n",
    "### use maxPitch and minPitch and durMap for a and b\n",
    "tMaxDep = int(np.log(size) // np.log(2)) + 1 #tree max-depth\n",
    "cRate = 0.9 #crossover rate\n",
    "popSize = 5 #population size\n",
    "mutRate = 0.5 #mutation rate\n",
    "terPro = 0.9 #terminal probability\n",
    "kTS = 4 #k of tournament selection\n",
    "eTS = 0.1 #e of tournament selection\n",
    "fRate = 0.01 #filtering rate\n",
    "functions = [ \"con\" , 'rev', 'sub'] #functions used\n",
    "funcNum = len(functions)\n",
    "treeSize = 2 * (2**tMaxDep) - 1\n"
   ]
  },
  {
   "cell_type": "markdown",
   "metadata": {
    "collapsed": true
   },
   "source": [
    "First of all we need to define some constants to work with. The first one, shown by tMaxDep is the tree's max depth and for a binary tree is defined by the n in 2^n terminal nodes that correspond to 2^n notes and their durations of a score. The second one is cRate which is the crossover rate and in simple words, it is the probability of a crossover happening. mutRate is the mutation rate and the probability of a mutation happening (note that we have taken it to have a 50 50 chance so that we have high noise in our search and as a result having a smaller chance of getting stuck in a local optimum). terPro is the terminal probability and is the probability of choosing a terminal node over a function one. kTS and eTS are the parameters for tournament selection and are the number of random selections and the probability of not choosing the best of them (e is used in the formula of tournament selection). fRate is the filtering rate and is the value by which we filter scarce events when we are tarnsforming the analysis results. \n",
    "\n",
    "functions is the list of all the functions that we can set for our function nodes.\n",
    "\n",
    "NOTE: If you set a function here, make sure to define the way this function should be analyzed in the funcApplier function.\n",
    "\n",
    "funcNum is the number of functions defined for our trees and treeSize is the size of the tree as a whole (i.e. the total number of nodes in a tree)\n",
    "\n",
    "NOTE: the variables and constants defined here have the flexibility to process scores of any size, be it a simple etude or a score book!\n",
    "\n",
    "After this initialization, we are going to press ignition on our genetic prorgam's car:"
   ]
  },
  {
   "cell_type": "code",
   "execution_count": 1,
   "metadata": {
    "collapsed": false
   },
   "outputs": [
    {
     "ename": "NameError",
     "evalue": "name 'analyzer' is not defined",
     "output_type": "error",
     "traceback": [
      "\u001b[1;31m---------------------------------------------------------------------------\u001b[0m",
      "\u001b[1;31mNameError\u001b[0m                                 Traceback (most recent call last)",
      "\u001b[1;32m<ipython-input-1-3447c222f546>\u001b[0m in \u001b[0;36m<module>\u001b[1;34m()\u001b[0m\n\u001b[1;32m----> 1\u001b[1;33m \u001b[0mtPitMet\u001b[0m\u001b[1;33m,\u001b[0m \u001b[0mtRhyMet\u001b[0m\u001b[1;33m,\u001b[0m \u001b[0mtMelIntMet\u001b[0m\u001b[1;33m,\u001b[0m \u001b[0mtMelBigMet\u001b[0m\u001b[1;33m,\u001b[0m \u001b[0mtMelTriMet\u001b[0m\u001b[1;33m,\u001b[0m \u001b[0mtChroToneMet\u001b[0m\u001b[1;33m,\u001b[0m \u001b[0mtRhyIntMet\u001b[0m\u001b[1;33m,\u001b[0m \u001b[0mtRhyBigMet\u001b[0m\u001b[1;33m,\u001b[0m \u001b[0mtRhyTriMet\u001b[0m \u001b[1;33m=\u001b[0m \u001b[0manalyzer\u001b[0m\u001b[1;33m(\u001b[0m\u001b[0mtPi\u001b[0m\u001b[1;33m,\u001b[0m\u001b[0mtDu\u001b[0m\u001b[1;33m)\u001b[0m \u001b[1;31m#target metrics\u001b[0m\u001b[1;33m\u001b[0m\u001b[0m\n\u001b[0m\u001b[0;32m      2\u001b[0m \u001b[0mtMetrics\u001b[0m \u001b[1;33m=\u001b[0m \u001b[1;33m[\u001b[0m\u001b[0mtPitMet\u001b[0m\u001b[1;33m,\u001b[0m \u001b[0mtRhyMet\u001b[0m\u001b[1;33m,\u001b[0m \u001b[0mtMelIntMet\u001b[0m\u001b[1;33m,\u001b[0m \u001b[0mtMelBigMet\u001b[0m\u001b[1;33m,\u001b[0m \u001b[0mtMelTriMet\u001b[0m\u001b[1;33m,\u001b[0m \u001b[0mtChroToneMet\u001b[0m\u001b[1;33m,\u001b[0m \u001b[0mtRhyIntMet\u001b[0m\u001b[1;33m,\u001b[0m \u001b[0mtRhyBigMet\u001b[0m\u001b[1;33m,\u001b[0m \u001b[0mtRhyTriMet\u001b[0m\u001b[1;33m]\u001b[0m\u001b[1;33m\u001b[0m\u001b[0m\n\u001b[0;32m      3\u001b[0m \u001b[0mmetNames\u001b[0m \u001b[1;33m=\u001b[0m \u001b[1;33m[\u001b[0m\u001b[1;34m'Pitch Metric'\u001b[0m\u001b[1;33m,\u001b[0m \u001b[1;34m'Rhythm Metric'\u001b[0m\u001b[1;33m,\u001b[0m \u001b[1;34m'Melodic Interval Metric'\u001b[0m\u001b[1;33m,\u001b[0m \u001b[1;34m'Melodic Bigram Metric'\u001b[0m\u001b[1;33m,\u001b[0m \u001b[1;34m'Melodic Trigram Metric'\u001b[0m\u001b[1;33m,\u001b[0m \u001b[1;34m'Chromatic Tone Metric'\u001b[0m\u001b[1;33m,\u001b[0m \u001b[1;34m'Rhythmic Interval Metric'\u001b[0m\u001b[1;33m,\u001b[0m \u001b[1;34m\"Rhythmic Bigram Metric\"\u001b[0m\u001b[1;33m,\u001b[0m \u001b[1;34m'Rhythmic Trigram Metric'\u001b[0m\u001b[1;33m]\u001b[0m\u001b[1;33m\u001b[0m\u001b[0m\n\u001b[0;32m      4\u001b[0m \u001b[0mtDics\u001b[0m \u001b[1;33m=\u001b[0m \u001b[1;33m[\u001b[0m\u001b[1;33m]\u001b[0m\u001b[1;33m\u001b[0m\u001b[0m\n\u001b[0;32m      5\u001b[0m \u001b[0mlenMets\u001b[0m \u001b[1;33m=\u001b[0m \u001b[0mlen\u001b[0m\u001b[1;33m(\u001b[0m\u001b[0mtMetrics\u001b[0m\u001b[1;33m)\u001b[0m \u001b[1;31m#number of metrics\u001b[0m\u001b[1;33m\u001b[0m\u001b[0m\n",
      "\u001b[1;31mNameError\u001b[0m: name 'analyzer' is not defined"
     ]
    }
   ],
   "source": [
    "tPitMet, tRhyMet, tMelIntMet, tMelBigMet, tMelTriMet, tChroToneMet, tRhyIntMet, tRhyBigMet, tRhyTriMet = analyzer(tPi,tDu) #target metrics\n",
    "tMetrics = [tPitMet, tRhyMet, tMelIntMet, tMelBigMet, tMelTriMet, tChroToneMet, tRhyIntMet, tRhyBigMet, tRhyTriMet]\n",
    "metNames = ['Pitch Metric', 'Rhythm Metric', 'Melodic Interval Metric', 'Melodic Bigram Metric', 'Melodic Trigram Metric', 'Chromatic Tone Metric', 'Rhythmic Interval Metric', \"Rhythmic Bigram Metric\", 'Rhythmic Trigram Metric']\n",
    "tDics = []\n",
    "lenMets = len(tMetrics) #number of metrics\n",
    "i = 0\n",
    "while(i < lenMets) : #ith tmetric\n",
    "    vec = tMetrics[i]\n",
    "    mDic = {x : vec.count(x) for x in vec} #key-frequency dictionaries\n",
    "    tDics.append(filtering(list(mDic.values()),mDic, fRate))\n",
    "    i += 1\n",
    "initPop() #making the initial population\n",
    "decoder() #decodes the last list of popSize trees in the population\n",
    "popMetrics = [popPitMet, popRhyMet, popMelIntMet, popMelBigMet, popMelTriMet, popChroToneMet, popRhyIntMet, popRhyBigMet, popRhyTriMet]\n",
    "Fitness(fRate)"
   ]
  },
  {
   "cell_type": "markdown",
   "metadata": {},
   "source": [
    "The first line analyzes the target score for different metrics and the result of the analysis is assigned to the suitable variables for later use and comparison. In the second line, nothing more is done, we just have made a list of those variables so that we can use them easily in a loop!\n",
    "\n",
    "The third line is the metric names' list. The purpose is the output demonstration in the output files and graphs. \n",
    "\n",
    "NOTE: mind the order of names and the order in the list of metrics (tMetNames).\n",
    "\n",
    "Now, the first step is to tranform the analysis of the target input to dictionaries so we can use them as vectors. So we make a taget dictionary list (tDics) through a loop of length lenMets (the number of metrics) and in each iteration, we add a metric's dictionary of the target (remember if it was in the process of our program, it would be for our chromosomes instead of the target). \n",
    "\n",
    "Now, we simply initialize the genetic algorithm by calling initPop function and as a result make the first population. Right after that we have to decode the generated chromosomes and again for easier accecability we insert all of the resulting population metrics metrics in a list. \n",
    "\n",
    "NOTE: population metrics that are all in popmetrics are lists that are going to contain lists for different generations and have only one list for each metric for now (i.e. we have a list of lenMets (# of metrics) lists of gs (generations) lists).\n",
    "\n",
    "And the last but not the least, the heart of our program (as every genetic algorithm) and what we should do after everything else is done for a population, finding the fitness. We have used the Fitness function defined earlier.\n",
    "\n",
    "The loop of genetic algorithm is the last touch of the process:"
   ]
  },
  {
   "cell_type": "code",
   "execution_count": 3,
   "metadata": {
    "collapsed": false
   },
   "outputs": [
    {
     "ename": "NameError",
     "evalue": "name 'sys' is not defined",
     "output_type": "error",
     "traceback": [
      "\u001b[1;31m---------------------------------------------------------------------------\u001b[0m",
      "\u001b[1;31mNameError\u001b[0m                                 Traceback (most recent call last)",
      "\u001b[1;32m<ipython-input-3-682b4fa28352>\u001b[0m in \u001b[0;36m<module>\u001b[1;34m()\u001b[0m\n\u001b[0;32m      3\u001b[0m \u001b[1;32mwhile\u001b[0m\u001b[1;33m(\u001b[0m\u001b[0mg\u001b[0m \u001b[1;33m<\u001b[0m \u001b[0mgs\u001b[0m\u001b[1;33m)\u001b[0m \u001b[1;33m:\u001b[0m \u001b[1;31m#generations loop\u001b[0m\u001b[1;33m\u001b[0m\u001b[0m\n\u001b[0;32m      4\u001b[0m \u001b[1;33m\u001b[0m\u001b[0m\n\u001b[1;32m----> 5\u001b[1;33m     \u001b[0moldstdout\u001b[0m \u001b[1;33m=\u001b[0m \u001b[0msys\u001b[0m\u001b[1;33m.\u001b[0m\u001b[0mstdout\u001b[0m\u001b[1;33m\u001b[0m\u001b[0m\n\u001b[0m\u001b[0;32m      6\u001b[0m     \u001b[0mfile\u001b[0m \u001b[1;33m=\u001b[0m \u001b[0mopen\u001b[0m\u001b[1;33m(\u001b[0m\u001b[1;34m'generation %d.txt'\u001b[0m \u001b[1;33m%\u001b[0m \u001b[1;33m(\u001b[0m\u001b[0mg\u001b[0m\u001b[1;33m)\u001b[0m\u001b[1;33m,\u001b[0m \u001b[1;34m'w'\u001b[0m\u001b[1;33m)\u001b[0m\u001b[1;33m\u001b[0m\u001b[0m\n\u001b[0;32m      7\u001b[0m     \u001b[0msys\u001b[0m\u001b[1;33m.\u001b[0m\u001b[0mstdout\u001b[0m \u001b[1;33m=\u001b[0m \u001b[0mfile\u001b[0m\u001b[1;33m\u001b[0m\u001b[0m\n",
      "\u001b[1;31mNameError\u001b[0m: name 'sys' is not defined"
     ]
    }
   ],
   "source": [
    "gs = 40 #generations\n",
    "g = 0\n",
    "while(g < gs) : #generations loop\n",
    "\n",
    "    oldstdout = sys.stdout\n",
    "    file = open('generation %d.txt' % (g), 'w')\n",
    "    sys.stdout = file\n",
    "    p = 0\n",
    "    while(p < popSize) :\n",
    "        print('%d th tree : \\n ' % (p) ,at.RenderTree(population[-1][p], style=at.AsciiStyle()).by_attr(), '\\n------------------\\n\\n')\n",
    "        p += 1\n",
    "    sys.stdout = oldstdout\n",
    "    \n",
    "    #print(g+1 ,'th generation')\n",
    "    population.append([])\n",
    "    i = 0\n",
    "    while(i < popSize/2) :\n",
    "        parent1, parent2 = Selection(population[-2],fitness[-1],kTS,eTS) #choose 2 parents through tournament selection\n",
    "        #print('parent1 : ' ,at.RenderTree(parent1, style=at.AsciiStyle()).by_attr(),'\\n----------------\\n','parent2 : ', at.RenderTree(parent2, style=at.AsciiStyle()).by_attr())\n",
    "        cParent1, cParent2 = Crossover(parent1, parent2, cRate, treeSize) #the crossover operator\n",
    "        child1, child2 = Mutation(cParent1, cParent2, mutRate, tMaxDep)\n",
    "        population[-1].append(child1)\n",
    "        population[-1].append(child2)\n",
    "        i += 1\n",
    "    decoder()\n",
    "    Fitness(fRate)\n",
    "    g += 1\n",
    "    \n",
    "i = 0\n",
    "while(i < len(fitness)) : \n",
    "    fitAvg.append(sum(fitness[i])/len(fitness[i])) #average fitness of each generation\n",
    "    i += 1\n"
   ]
  },
  {
   "cell_type": "markdown",
   "metadata": {},
   "source": [
    "gs is the number of generations we want our program to try and get closer to a required result. Now we make a loop to run over all of the generations. \n",
    "\n",
    "In the first step of the loop, we assign the console (the place of printing outputs) to a variable using sys.stdout to retrieve it. Then, we open a text file and assign it to variable file so we can change the console to that text file (Note the naming of the file). We want to keep important stuff of each generation so that we can check the behaviour of our system in this algorithm.\n",
    "\n",
    "NOTE: We use **sys.stdout = file** to assign the curren console.\n",
    "\n",
    "Then we use a loop to print out the trees of the last population.\n",
    "\n",
    "NOTE: **at.RenderTree(population[-1][p], style=at.AsciiStyle()).by_attr()**, this is what you got to print to output the tree.\n",
    "\n",
    "After we are finished with this text file, we change the console back to the original one (inserted in oldstdout).\n",
    "\n",
    "NOTE: if the program crashed in the middle of printing in a file (as when this loop is running), the console would stay there! If the one on your ide did not work, just restart the ide and all would be ok, if the original console is working, you only have to run sys.stdout = oldstdout.\n",
    "\n",
    "Now, we are ready to generate the next generation. We add another list to hold our new population. Then through a loop of length popSize/2 we run the genetic operators on the last population to get a new one. \n",
    "\n",
    "The first line uses the Selection function we defined earlier and chooses two parents for us. Then, Crossover function crossovers the parents. After mutation is done, 2 children are ready to be added to the next generation.\n",
    "\n",
    "NOTE: Did you understand why we used popSize/2 for our loop?\n",
    "\n",
    "After the loop is done, the new generation is ready and we have to decode it and calculate the fitness of each chromsome of it.\n",
    "\n",
    "This process is done for gs generations!\n",
    "\n",
    "Take a look at the structure of our coding and the way generations are produced and processed. Make sure you understand the simple procedure of our algorithm.\n",
    "\n",
    "The last loop is for calculating the average fitness of each of the generations. This list is valuable for seeing the behaviour of our algorithm. \n",
    "\n",
    "NOTE: we want our chromosomes to converge as soon as possible! So we can change the values of the constants and find the optimized value for them in a heavy system."
   ]
  },
  {
   "cell_type": "markdown",
   "metadata": {},
   "source": [
    "**Congradulations! we have made a full functioning EMC . . !**\n",
    "\n",
    "Now, the only thing left is to make an output file, so we can easily understand the final and simple output of our program: "
   ]
  },
  {
   "cell_type": "code",
   "execution_count": 4,
   "metadata": {
    "collapsed": false
   },
   "outputs": [
    {
     "ename": "NameError",
     "evalue": "name 'sys' is not defined",
     "output_type": "error",
     "traceback": [
      "\u001b[1;31m---------------------------------------------------------------------------\u001b[0m",
      "\u001b[1;31mNameError\u001b[0m                                 Traceback (most recent call last)",
      "\u001b[1;32m<ipython-input-4-8299447b59c8>\u001b[0m in \u001b[0;36m<module>\u001b[1;34m()\u001b[0m\n\u001b[0;32m      3\u001b[0m ========================================='''\n\u001b[0;32m      4\u001b[0m \u001b[1;33m\u001b[0m\u001b[0m\n\u001b[1;32m----> 5\u001b[1;33m \u001b[0moldstdout\u001b[0m \u001b[1;33m=\u001b[0m \u001b[0msys\u001b[0m\u001b[1;33m.\u001b[0m\u001b[0mstdout\u001b[0m\u001b[1;33m\u001b[0m\u001b[0m\n\u001b[0m\u001b[0;32m      6\u001b[0m \u001b[0mfile\u001b[0m \u001b[1;33m=\u001b[0m \u001b[0mopen\u001b[0m\u001b[1;33m(\u001b[0m\u001b[1;34m'EMC Output.txt'\u001b[0m\u001b[1;33m,\u001b[0m \u001b[1;34m'w'\u001b[0m\u001b[1;33m)\u001b[0m\u001b[1;33m\u001b[0m\u001b[0m\n\u001b[0;32m      7\u001b[0m \u001b[0msys\u001b[0m\u001b[1;33m.\u001b[0m\u001b[0mstdout\u001b[0m \u001b[1;33m=\u001b[0m \u001b[0mfile\u001b[0m\u001b[1;33m\u001b[0m\u001b[0m\n",
      "\u001b[1;31mNameError\u001b[0m: name 'sys' is not defined"
     ]
    }
   ],
   "source": [
    "'''=========================================\n",
    "saving and demonstrating the results\n",
    "========================================='''\n",
    "\n",
    "oldstdout = sys.stdout\n",
    "file = open('EMC Output.txt', 'w')\n",
    "sys.stdout = file\n",
    "print('This is the final tree : \\n' , at.RenderTree(population[-1][-1], style=at.AsciiStyle()).by_attr())\n",
    "print('These are its vectors : \\n' , popVectors[-1][-1][0], '\\n', popVectors[-1][-1][1])\n",
    "print('frequency dictionaries :')\n",
    "print('pitch metric : ', popDics[-1][-1][0])\n",
    "print('rhythm metric : ', popDics[-1][-1][1])\n",
    "print('melodic interval metric : ', popDics[-1][-1][2])\n",
    "print('melodic bigram metric : ', popDics[-1][-1][3])\n",
    "print('melodic trigram metric : ', popDics[-1][-1][4])\n",
    "print('chromatic tone metric : ', popDics[-1][-1][5])\n",
    "print('rhythmic interval metric : ', popDics[-1][-1][6])\n",
    "print('rhythmic bigram metric : ', popDics[-1][-1][7])\n",
    "print('rhythmic trigram metric : ', popDics[-1][-1][8])\n",
    "print('It fitness is :', fitness[-1][-1])\n",
    "\n",
    "print('\\n it\\'s found by these values : ')\n",
    "print('mutation rate :', mutRate)\n",
    "print('crossover rate :', cRate)\n",
    "print('population size :', popSize)\n",
    "print('generations :', gs)\n",
    "print('tournament selection parameters (k,e) :', (kTS, eTS))\n",
    "print('tree Sizes :', treeSize)\n",
    "print('filtering rate :' , fRate)\n",
    "print('functions used :' , functions)\n",
    "\n",
    "print('\\n for a target of these descriptions :')\n",
    "print('target vectors : \\n', tPi, '\\n', tDu)\n",
    "print('target\\'s pitch metric : ', tDics[0])\n",
    "print('target\\'s rhythm metric : ', tDics[1])\n",
    "print('target\\'s melodic interval metric : ', tDics[2])\n",
    "print('target\\'s melodic bigram metric : ', tDics[3])\n",
    "print('target\\'s melodic trigram metric : ', tDics[4])\n",
    "print('target\\'s chromatic tone metric : ', tDics[5])\n",
    "print('target\\'s rhythmic interval metric : ', tDics[6])\n",
    "print('target\\'s rhythmic bigram metric : ', tDics[7])\n",
    "print('target\\'s rhythmic trigram metric : ', tDics[8])\n",
    "print('target\\'s minimum pitch :' , minPitch)\n",
    "print('target\\'s maximum pitch :' , maxPitch)\n",
    "print('target\\'s duration map :' , durMap)\n"
   ]
  },
  {
   "cell_type": "markdown",
   "metadata": {},
   "source": [
    "In this part, we have a series of prints to make a single output file, nothing complicated. All of the functions and variables of this part are formerly discussed, so further discussion is not required."
   ]
  },
  {
   "cell_type": "code",
   "execution_count": 5,
   "metadata": {
    "collapsed": false
   },
   "outputs": [
    {
     "ename": "NameError",
     "evalue": "name 'lenMets' is not defined",
     "output_type": "error",
     "traceback": [
      "\u001b[1;31m---------------------------------------------------------------------------\u001b[0m",
      "\u001b[1;31mNameError\u001b[0m                                 Traceback (most recent call last)",
      "\u001b[1;32m<ipython-input-5-3e24ab3c9705>\u001b[0m in \u001b[0;36m<module>\u001b[1;34m()\u001b[0m\n\u001b[0;32m      1\u001b[0m \u001b[0mj\u001b[0m \u001b[1;33m=\u001b[0m \u001b[1;36m0\u001b[0m\u001b[1;33m\u001b[0m\u001b[0m\n\u001b[1;32m----> 2\u001b[1;33m \u001b[1;32mwhile\u001b[0m\u001b[1;33m(\u001b[0m\u001b[0mj\u001b[0m \u001b[1;33m<\u001b[0m \u001b[0mlenMets\u001b[0m\u001b[1;33m)\u001b[0m \u001b[1;33m:\u001b[0m\u001b[1;33m\u001b[0m\u001b[0m\n\u001b[0m\u001b[0;32m      3\u001b[0m     \u001b[0mPlotter\u001b[0m\u001b[1;33m(\u001b[0m\u001b[0mpopDics\u001b[0m\u001b[1;33m[\u001b[0m\u001b[1;33m-\u001b[0m\u001b[1;36m1\u001b[0m\u001b[1;33m]\u001b[0m\u001b[1;33m[\u001b[0m\u001b[1;33m-\u001b[0m\u001b[1;36m1\u001b[0m\u001b[1;33m]\u001b[0m\u001b[1;33m[\u001b[0m\u001b[0mj\u001b[0m\u001b[1;33m]\u001b[0m\u001b[1;33m,\u001b[0m \u001b[0mtDics\u001b[0m\u001b[1;33m[\u001b[0m\u001b[0mj\u001b[0m\u001b[1;33m]\u001b[0m\u001b[1;33m,\u001b[0m \u001b[0mmetNames\u001b[0m\u001b[1;33m)\u001b[0m\u001b[1;33m\u001b[0m\u001b[0m\n\u001b[0;32m      4\u001b[0m     \u001b[0mj\u001b[0m \u001b[1;33m+=\u001b[0m \u001b[1;36m1\u001b[0m\u001b[1;33m\u001b[0m\u001b[0m\n\u001b[0;32m      5\u001b[0m \u001b[1;33m\u001b[0m\u001b[0m\n",
      "\u001b[1;31mNameError\u001b[0m: name 'lenMets' is not defined"
     ]
    }
   ],
   "source": [
    "j = 0\n",
    "while(j < lenMets) :\n",
    "    Plotter(popDics[-1][-1][j], tDics[j], metNames)\n",
    "    j += 1\n",
    "    \n",
    "plt.figure()\n",
    "plt.plot(np.linspace(0,len(fitAvg) - 1, len(fitAvg) ,dtype = int), fitAvg)\n",
    "plt.ylabel('Fitness')\n",
    "plt.xlabel('Generation Number')\n",
    "plt.title('Fitness Progress Diagram')\n",
    "plt.savefig('Fitness Progress Diagram.jpg', bbox_inches='tight')\n",
    "file.close()\n",
    "sys.stdout = oldstdout"
   ]
  },
  {
   "cell_type": "markdown",
   "metadata": {},
   "source": [
    "The last part of this prorgam is dedicated to demonstrations and graphs. The first loop is over the metrics used for this program and plots their bar-plots in comparison to the targets for the best acquired chromosome using the Plotter function defined formerly.\n",
    "\n",
    "Then, in an other figure (plt.figure()) we plot the average fitness of each generation to see how our genetic program performed. We save this figrue and close the final unique output text file and change the console back to its original one."
   ]
  },
  {
   "cell_type": "markdown",
   "metadata": {},
   "source": [
    "\n",
    "\n",
    "\n",
    "\n",
    "\n",
    "\n",
    "\n",
    "\n",
    "\n",
    "\n",
    "\n",
    "\n",
    "\n",
    "\n",
    "\n",
    "\n",
    "-------------------------------------------\n",
    "If you had further questions, ideas, or comments and crticisms, you can find my contact in http://arashfeizpour.github.io/about/"
   ]
  },
  {
   "cell_type": "code",
   "execution_count": null,
   "metadata": {
    "collapsed": true
   },
   "outputs": [],
   "source": []
  }
 ],
 "metadata": {
  "kernelspec": {
   "display_name": "Python 3",
   "language": "python",
   "name": "python3"
  },
  "language_info": {
   "codemirror_mode": {
    "name": "ipython",
    "version": 3
   },
   "file_extension": ".py",
   "mimetype": "text/x-python",
   "name": "python",
   "nbconvert_exporter": "python",
   "pygments_lexer": "ipython3",
   "version": "3.4.4"
  }
 },
 "nbformat": 4,
 "nbformat_minor": 0
}
