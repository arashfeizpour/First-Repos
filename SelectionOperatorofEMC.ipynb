{
 "cells": [
  {
   "cell_type": "markdown",
   "metadata": {},
   "source": [
    "As always we import the required packages first:"
   ]
  },
  {
   "cell_type": "code",
   "execution_count": 1,
   "metadata": {
    "collapsed": true
   },
   "outputs": [],
   "source": [
    "import numpy as np"
   ]
  },
  {
   "cell_type": "markdown",
   "metadata": {},
   "source": [
    "We take a random population in a list, and in another list, we take their random fitnesses:"
   ]
  },
  {
   "cell_type": "code",
   "execution_count": 2,
   "metadata": {
    "collapsed": true
   },
   "outputs": [],
   "source": [
    "lPopulation = ['a', 'b', 'c', 'd', 'e', 'f', 'g', 'h', 'k', 'm']\n",
    "lFitness = [90, 40, 30, 20, 32, 43, 70, 65, 76, 20]\n"
   ]
  },
  {
   "cell_type": "markdown",
   "metadata": {},
   "source": [
    "hella random, isn't it? "
   ]
  },
  {
   "cell_type": "markdown",
   "metadata": {},
   "source": [
    "Now, we should write the body of this genetic operator:"
   ]
  },
  {
   "cell_type": "code",
   "execution_count": 3,
   "metadata": {
    "collapsed": true
   },
   "outputs": [],
   "source": [
    "i = 0\n",
    "pars = [] #parents\n",
    "while(i < 2) :\n",
    "    canPars = [] #candidate parents\n",
    "    j = 0\n",
    "    while(j < 3) : #choosing kTS parents randomly\n",
    "        randNum = np.random.randint(0,10)\n",
    "        canPars.append( (lFitness[randNum], lPopulation[randNum]) )\n",
    "        j += 1\n",
    "    randNum = float(np.random.random(1))\n",
    "    canPars.sort()\n",
    "    canPars.reverse()\n",
    "    j = 0\n",
    "    ind = 0\n",
    "    while(j < 3) :\n",
    "        ind += (1-0.1)*(0.1**j)\n",
    "        if(randNum < ind) :\n",
    "            pars.append(canPars[j][1])\n",
    "            break\n",
    "        j += 1\n",
    "    i += 1"
   ]
  },
  {
   "cell_type": "markdown",
   "metadata": {},
   "source": [
    "i and j are the counters for the while loops."
   ]
  },
  {
   "cell_type": "markdown",
   "metadata": {},
   "source": [
    "We have made a list, named \"pars\" which is going to hold the parents.\n",
    "\n",
    "Why is the first while looping over 2 chromosomes? because we want to choose two of the population, two chromosomes, to make babies!"
   ]
  },
  {
   "cell_type": "markdown",
   "metadata": {},
   "source": [
    "\"canPars\" is the list that will hold the candidate parents for us. It is like, some people (here, 3) have come to audition for a position in our little show, and we are going to choose one of them (based on some regulations we deem substantial) to be the lucky parent.\n",
    "As a result, we make a loop with three cycles and we choose a populice randomly from our population and add it to the candidate parents list each cycle.\n",
    "\n",
    "Now, we should find 2 parents in this group of candidate parents. There are many ways of choosing (https://en.wikipedia.org/wiki/Fitness_proportionate_selection) but the method we want to use here is explained in this way ( https://en.wikipedia.org/wiki/Tournament_selection): for this purpose, we first sort and reverse the candidate parents list so that they are sorted from the one with the largest fitness down to the lowest. Then, after generating a random float smaller than 1, we make a loop of three. In the first cycle we compare the random number to \"indicator\" (1-R)R^j (where R is the selection rate, here, taken to be 0.1). Next, if the random number was larger than this value, in the next cycle (j+1), (1-R)R^(j+1) is added to \"ind\" ((1-R)R^j). This addition and comparison is coontinued untill the random number is smaller than the cumulative value of \"ind\" and then the loop breaks and jumps out. \n",
    "\n",
    "The i cycle is over 2 and hence this process is going to happen an other time and then we are going to have our two parents who are going to make babies (chromosomes of new population) by other genetic operators.\n"
   ]
  },
  {
   "cell_type": "markdown",
   "metadata": {},
   "source": [
    "Note: Can you see the fact that in each iteration of the selection method, we get closer and closer to 1?"
   ]
  },
  {
   "cell_type": "code",
   "execution_count": null,
   "metadata": {
    "collapsed": true
   },
   "outputs": [],
   "source": []
  }
 ],
 "metadata": {
  "kernelspec": {
   "display_name": "Python 3",
   "language": "python",
   "name": "python3"
  },
  "language_info": {
   "codemirror_mode": {
    "name": "ipython",
    "version": 3
   },
   "file_extension": ".py",
   "mimetype": "text/x-python",
   "name": "python",
   "nbconvert_exporter": "python",
   "pygments_lexer": "ipython3",
   "version": "3.4.4"
  }
 },
 "nbformat": 4,
 "nbformat_minor": 0
}
