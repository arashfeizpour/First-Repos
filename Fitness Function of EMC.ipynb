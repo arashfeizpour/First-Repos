{
 "cells": [
  {
   "cell_type": "markdown",
   "metadata": {},
   "source": [
    "In this code we want to implement the fitness function loaned from IR (infromation retrieval) for our genetic algorithm and make a function for evaluating the fitness of chromosomes (here, binary trees showing scores of music). This was copied from the original program when I was trying to debug it. Checking the function of each part of a large program as independent programs is a wise choice in my opinion."
   ]
  },
  {
   "cell_type": "code",
   "execution_count": 3,
   "metadata": {},
   "outputs": [],
   "source": [
    "#imports\n",
    "import numpy as np"
   ]
  },
  {
   "cell_type": "markdown",
   "metadata": {},
   "source": [
    "Note that in this part that we initialize and make some lists to be filled later, I have inserted some of the actual analysis results taken from the original program."
   ]
  },
  {
   "cell_type": "code",
   "execution_count": 4,
   "metadata": {},
   "outputs": [],
   "source": [
    "fitSep = []\n",
    "popDics = []\n",
    "fitness = []\n",
    "popMetrics = [[2,2,3,4,1,23,41],[2,3,4,1,4,4,1,2,4],\n",
    "              [1,2,3,4,1,2,3,4],[1,23,4,5,1,3,4,4,11],\n",
    "              [2,4,5,6,7,88,67,3,5,3],[9,8,9,9,7,6,8,8],\n",
    "              [3,4,5,6,7,7,8,43,6,77,7],[7,56,4,5,2,3,2,1,1],\n",
    "              [1,1,1,1,2,3,4,51,13,1,1]]\n",
    "tMetrics = [[2,2,3,4,1,23,41],[2,3,4,1,4,4,1,2,4],\n",
    "            [1,2,3,4,1,2,3,4],[1,23,4,5,1,3,4,4,11],\n",
    "            [2,4,5,6,7,88,67,3,5,3],[9,8,9,9,7,6,8,8],\n",
    "            [3,4,5,6,7,7,8,43,6,77,7],[7,56,4,5,2,3,2,1,1],\n",
    "            [1,1,1,1,2,3,4,51,13,1,1]]"
   ]
  },
  {
   "cell_type": "markdown",
   "metadata": {},
   "source": [
    "Now that everything is set we define the function:"
   ]
  },
  {
   "cell_type": "code",
   "execution_count": 5,
   "metadata": {},
   "outputs": [],
   "source": [
    "def Fitness() :\n",
    "    fitSep.append([]) #for a generation\n",
    "    popDics.append([]) #for a generation\n",
    "    fitness.append([]) #for a generation\n",
    "    \n",
    "    p = 0\n",
    "    while(p < 1) :\n",
    "        popDics[-1].append([])\n",
    "\n",
    "        i = 0\n",
    "        while(i < 9) : #ith popmetric\n",
    "            vec = popMetrics[i] #from the ith metric list, pth chromosome's vector of the metric of the last generation\n",
    "            mDic = {x : vec.count(x) for x in vec}\n",
    "            dummy = filtering(list(mDic.values()), mDic, 0.05) #filters the less frequent events\n",
    "            mDic = dummy\n",
    "            popDics[-1][-1].append(mDic)\n",
    "            i += 1\n",
    "\n",
    "        FitSep(popDics,tDics,p)        \n",
    "        p += 1 \n",
    "\n",
    "    p = 0\n",
    "    while(p < 1) :    \n",
    "        fitness[-1].append(sum(fitSep[-1][p])/len(fitSep[-1][p]))\n",
    "        p += 1"
   ]
  },
  {
   "cell_type": "markdown",
   "metadata": {},
   "source": [
    "We defined three lists earlier which we use in this function. The most important one for this part is the \"popDics\" list (list of dectionaries); it creates a dictionary with the counts of each event underlying each metric. Furthermore, \"fitSep\" is the fitness of each metric seperated for each chromosome of a population. In each iteration of the p loop (here for simplicity we set the limit to 1, but normally it should be equal to population size) each chromosome's fitness function is calculated for the vector of each metric. Each metric gives a fitness value and the average of all of them is added to \"fitness\" list."
   ]
  },
  {
   "cell_type": "markdown",
   "metadata": {},
   "source": [
    "You most certainly have noticed the \"FitSep\" function used in the fitness function. It is defined below:"
   ]
  },
  {
   "cell_type": "code",
   "execution_count": 6,
   "metadata": {},
   "outputs": [],
   "source": [
    "def FitSep(popDics,tDics,p) :\n",
    "    fitSep[-1].append([])\n",
    "    i = 0\n",
    "    while(i < lenMets) : #ith metrics            \n",
    "        popMet = popDics[-1][-1][i] #ith\n",
    "        tMet = tDics[i]\n",
    "        if(len(popMet) >= len(tMet)) :\n",
    "            base = tMet\n",
    "            dep = popMet\n",
    "        else :\n",
    "            base = popMet\n",
    "            dep = tMet\n",
    "        #print(p , ':\\n ', i , ':' , base,'\\n', dep)\n",
    "        j = 0\n",
    "        summation = 0\n",
    "        bSizeS, dSizeS = 0 , 0\n",
    "        while(j < len(base)) :\n",
    "            if(list(base.keys())[j] in dep) :\n",
    "                summation += (  list(base.values())[j] * dep[list(base.keys())[j]]  )\n",
    "            bSizeS += (list(base.values())[j]) **2\n",
    "            j += 1\n",
    "        j = 0\n",
    "        while(j < len(dep)) :\n",
    "            dSizeS += (list(dep.values())[j]) **2\n",
    "            j += 1\n",
    "        dSize = np.sqrt(dSizeS)\n",
    "        bSize = np.sqrt(bSizeS)\n",
    "        #print('base :', bSize,'dep :', dSize,'sum :', summation)\n",
    "        fitSep[-1][-1].append(summation/(bSize * dSize))\n",
    "        i += 1"
   ]
  },
  {
   "cell_type": "markdown",
   "metadata": {},
   "source": [
    "This function takes in the dictionary of last chromosome (\"popDics\" : population dictionaries) and calculate the fitness for each metric in comparison to the target dictionaries (\"tDics\"). In the loop of this function, in each iteration for each metric, fitness value is calculated (in the two inner loops) and at last is added to the \"fitSep\" list. Note the use of base and dependent notion (\"base\" and \"dep\") for the reduction of calculations."
   ]
  },
  {
   "cell_type": "markdown",
   "metadata": {},
   "source": [
    "One last touch is the filtering function (\"filtering\") which is used to omit the least frequent phenomena."
   ]
  },
  {
   "cell_type": "code",
   "execution_count": 7,
   "metadata": {},
   "outputs": [],
   "source": [
    "def filtering(vec ,mDic, fRate) : #filtering the less frequent events\n",
    "    global m\n",
    "    summ = sum(vec) #summation of all the events happened\n",
    "    i = 0\n",
    "    m = 0 #counter of filtering in one dic\n",
    "    vecLen = len(vec)\n",
    "    while(i < vecLen) :\n",
    "        if(vec[i]/summ < fRate) :\n",
    "            m += 1\n",
    "            vec[i] = 0\n",
    "        i += 1\n",
    "    i = 0\n",
    "    while(i < vecLen) : #update the dic\n",
    "        mDic[list(mDic.keys())[i]] = vec[i] #mDic.keys() is a dictionary object\n",
    "        i += 1\n",
    "    return(mDic) "
   ]
  },
  {
   "cell_type": "markdown",
   "metadata": {},
   "source": [
    "\"m\" here, is the counter for the number of times a value is filtered. In each iteration the vector and the corresponding dictionary is given to this function and it filters and modifies the dictionary (\"mDic\") and return it. The \"fRate\" value shows the rate of filtering you can specify (and even dynamically change when calling this function)."
   ]
  },
  {
   "cell_type": "markdown",
   "metadata": {},
   "source": [
    "In the original program, because of the small size of dictionaries and the fact that filtering might neglect a whole dictionary, we implemented filtering but did not use it for our specific project."
   ]
  },
  {
   "cell_type": "markdown",
   "metadata": {},
   "source": [
    "Finally everything is ready to write the body of our program:"
   ]
  },
  {
   "cell_type": "code",
   "execution_count": 9,
   "metadata": {},
   "outputs": [],
   "source": [
    "tDics = []\n",
    "lenMets = len(tMetrics) #number of metrics\n",
    "i = 0\n",
    "while(i < lenMets) : #ith tmetric\n",
    "    vec = tMetrics[i]\n",
    "    mDic = {x : vec.count(x) for x in vec} #key-frequency dictionaries\n",
    "    tDics.append(filtering(list(mDic.values()),mDic, 0.05))\n",
    "    i += 1\n",
    "    \n",
    "Fitness()"
   ]
  },
  {
   "cell_type": "markdown",
   "metadata": {},
   "source": [
    "The main body contains the filtering of target dictionaries and calling the \"Fitness\" function."
   ]
  },
  {
   "cell_type": "markdown",
   "metadata": {},
   "source": [
    "I will be more than happy to cooperate and correspond. Contact me."
   ]
  },
  {
   "cell_type": "code",
   "execution_count": null,
   "metadata": {},
   "outputs": [],
   "source": []
  }
 ],
 "metadata": {
  "kernelspec": {
   "display_name": "Python 3",
   "language": "python",
   "name": "python3"
  },
  "language_info": {
   "codemirror_mode": {
    "name": "ipython",
    "version": 3
   },
   "file_extension": ".py",
   "mimetype": "text/x-python",
   "name": "python",
   "nbconvert_exporter": "python",
   "pygments_lexer": "ipython3",
   "version": "3.5.2"
  }
 },
 "nbformat": 4,
 "nbformat_minor": 2
}
